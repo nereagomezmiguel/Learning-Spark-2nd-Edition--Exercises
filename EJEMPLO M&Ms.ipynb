{
 "cells": [
  {
   "cell_type": "markdown",
   "id": "58b4c23f",
   "metadata": {},
   "source": [
    "# Ejemplo 2.1 M&Ms"
   ]
  },
  {
   "cell_type": "markdown",
   "id": "26a05185",
   "metadata": {},
   "source": [
    "Para llevar a cabo estos ejercicios he descargado el documento \"mnm_dataset.csv\" del repositorio de GitHub: \n",
    "https://github.com/databricks/LearningSparkV2/tree/master/chapter2/py/src/data"
   ]
  },
  {
   "cell_type": "markdown",
   "id": "2c38261f",
   "metadata": {},
   "source": [
    "### Python"
   ]
  },
  {
   "cell_type": "markdown",
   "id": "190c52c4",
   "metadata": {},
   "source": [
    "    Para ejecutar esta parte:\n",
    "     Kernel -> Change kernel -> Python 3"
   ]
  },
  {
   "cell_type": "markdown",
   "id": "d87b1f7d",
   "metadata": {},
   "source": [
    "Importamos las librerias necesarias:"
   ]
  },
  {
   "cell_type": "code",
   "execution_count": 1,
   "id": "7a4fbf41",
   "metadata": {},
   "outputs": [],
   "source": [
    "import sys\n",
    "from pyspark.sql import SparkSession\n",
    "from pyspark.sql.functions import count\n",
    "from pyspark.sql import functions as F"
   ]
  },
  {
   "cell_type": "markdown",
   "id": "abfad19b",
   "metadata": {},
   "source": [
    "Creamos una SparkSession"
   ]
  },
  {
   "cell_type": "code",
   "execution_count": 2,
   "id": "8ee6d45b",
   "metadata": {},
   "outputs": [],
   "source": [
    "spark = (SparkSession\n",
    "        .builder\n",
    "        .appName(\"PythonMnMCount\")\n",
    "        .getOrCreate())"
   ]
  },
  {
   "cell_type": "markdown",
   "id": "d913f762",
   "metadata": {},
   "source": [
    "Leemos los datos en un Spark DataFrame: las columnas tienen cabecera y estan separadas por coma"
   ]
  },
  {
   "cell_type": "code",
   "execution_count": 3,
   "id": "08592c4e",
   "metadata": {},
   "outputs": [],
   "source": [
    "mnm =\"C:/Users/nerea.gomez/Documents/Documentacion/Learning Spark/Datasets/mnm_dataset.csv\""
   ]
  },
  {
   "cell_type": "code",
   "execution_count": 4,
   "id": "92c61b63",
   "metadata": {},
   "outputs": [],
   "source": [
    "mnm_df = (spark.read.format(\"csv\")\n",
    " .option(\"header\", \"true\")\n",
    " .option(\"inferSchema\", \"true\")\n",
    " .load(mnm))\n"
   ]
  },
  {
   "cell_type": "markdown",
   "id": "beebab6b",
   "metadata": {},
   "source": [
    "Mostramos las cinco primeras filas:"
   ]
  },
  {
   "cell_type": "code",
   "execution_count": 5,
   "id": "62e96a96",
   "metadata": {
    "scrolled": true
   },
   "outputs": [
    {
     "name": "stdout",
     "output_type": "stream",
     "text": [
      "+-----+------+-----+\n",
      "|State|Color |Count|\n",
      "+-----+------+-----+\n",
      "|TX   |Red   |20   |\n",
      "|NV   |Blue  |66   |\n",
      "|CO   |Blue  |79   |\n",
      "|OR   |Blue  |71   |\n",
      "|WA   |Yellow|93   |\n",
      "+-----+------+-----+\n",
      "only showing top 5 rows\n",
      "\n"
     ]
    }
   ],
   "source": [
    "mnm_df.show(n=5, truncate=False)"
   ]
  },
  {
   "cell_type": "markdown",
   "id": "55e707d4",
   "metadata": {},
   "source": [
    "Realizamos una query para ordenar por total de veces los estados y sus colores."
   ]
  },
  {
   "cell_type": "code",
   "execution_count": 6,
   "id": "767eb697",
   "metadata": {},
   "outputs": [],
   "source": [
    "count_mnm_df = (mnm_df\n",
    "               .select(\"State\", \"Color\", \"Count\") #seleccionamos las 3 columnas\n",
    "               .groupBy(\"State\", \"Color\") #agrupamos por State y color\n",
    "               .agg(count(\"Count\").alias(\"Total\")) # contamos la columna count y como nombre de columna ponemos total\n",
    "               .orderBy(\"Total\", ascending=False)) #lo ordenamos por el numero total de veces que aparecen"
   ]
  },
  {
   "cell_type": "markdown",
   "id": "5d2f6617",
   "metadata": {},
   "source": [
    "Mostramos por pantalla el resultado"
   ]
  },
  {
   "cell_type": "code",
   "execution_count": 7,
   "id": "f6004a05",
   "metadata": {},
   "outputs": [
    {
     "name": "stdout",
     "output_type": "stream",
     "text": [
      "+-----+------+-----+\n",
      "|State|Color |Total|\n",
      "+-----+------+-----+\n",
      "|CA   |Yellow|1807 |\n",
      "|WA   |Green |1779 |\n",
      "|OR   |Orange|1743 |\n",
      "|TX   |Green |1737 |\n",
      "|TX   |Red   |1725 |\n",
      "|CA   |Green |1723 |\n",
      "|CO   |Yellow|1721 |\n",
      "|CA   |Brown |1718 |\n",
      "|CO   |Green |1713 |\n",
      "|NV   |Orange|1712 |\n",
      "|TX   |Yellow|1703 |\n",
      "|NV   |Green |1698 |\n",
      "|AZ   |Brown |1698 |\n",
      "|WY   |Green |1695 |\n",
      "|CO   |Blue  |1695 |\n",
      "|NM   |Red   |1690 |\n",
      "|AZ   |Orange|1689 |\n",
      "|NM   |Yellow|1688 |\n",
      "|NM   |Brown |1687 |\n",
      "|UT   |Orange|1684 |\n",
      "|NM   |Green |1682 |\n",
      "|UT   |Red   |1680 |\n",
      "|AZ   |Green |1676 |\n",
      "|NV   |Yellow|1675 |\n",
      "|NV   |Blue  |1673 |\n",
      "|WA   |Red   |1671 |\n",
      "|WY   |Red   |1670 |\n",
      "|WA   |Brown |1669 |\n",
      "|NM   |Orange|1665 |\n",
      "|WY   |Blue  |1664 |\n",
      "|WA   |Yellow|1663 |\n",
      "|WA   |Orange|1658 |\n",
      "|CA   |Orange|1657 |\n",
      "|NV   |Brown |1657 |\n",
      "|CA   |Red   |1656 |\n",
      "|CO   |Brown |1656 |\n",
      "|UT   |Blue  |1655 |\n",
      "|AZ   |Yellow|1654 |\n",
      "|TX   |Orange|1652 |\n",
      "|AZ   |Red   |1648 |\n",
      "|OR   |Blue  |1646 |\n",
      "|UT   |Yellow|1645 |\n",
      "|OR   |Red   |1645 |\n",
      "|CO   |Orange|1642 |\n",
      "|TX   |Brown |1641 |\n",
      "|NM   |Blue  |1638 |\n",
      "|AZ   |Blue  |1636 |\n",
      "|OR   |Green |1634 |\n",
      "|UT   |Brown |1631 |\n",
      "|WY   |Yellow|1626 |\n",
      "|WA   |Blue  |1625 |\n",
      "|CO   |Red   |1624 |\n",
      "|OR   |Brown |1621 |\n",
      "|TX   |Blue  |1614 |\n",
      "|OR   |Yellow|1614 |\n",
      "|NV   |Red   |1610 |\n",
      "|CA   |Blue  |1603 |\n",
      "|WY   |Orange|1595 |\n",
      "|UT   |Green |1591 |\n",
      "|WY   |Brown |1532 |\n",
      "+-----+------+-----+\n",
      "\n",
      "Total Rows = 60\n"
     ]
    }
   ],
   "source": [
    "count_mnm_df.show(n=60, truncate=False)\n",
    "print(\"Total Rows = %d\" % (count_mnm_df.count()))"
   ]
  },
  {
   "cell_type": "markdown",
   "id": "96d4c32b",
   "metadata": {},
   "source": [
    "En este caso, la consulta es igual a la anterior pero solo mostramos los datos de CA."
   ]
  },
  {
   "cell_type": "code",
   "execution_count": 8,
   "id": "8ec8d329",
   "metadata": {},
   "outputs": [],
   "source": [
    "ca_count_mnm_df = (mnm_df\n",
    "                  .select(\"State\", \"Color\", \"Count\") #seleccionamos las 3 columnas\n",
    "                  .where(mnm_df.State ==\"CA\") #filtramos para que el estado sea california\n",
    "                  .groupBy(\"State\", \"Color\") # agrupamos por estado y color\n",
    "                  .agg(count(\"Count\").alias(\"Total\")) #contamos cuantas veces aparece cada grupo\n",
    "                  .orderBy(\"Total\", ascending=False)) #las ordenamos por el numero de veces que aparecen"
   ]
  },
  {
   "cell_type": "markdown",
   "id": "86575cd8",
   "metadata": {},
   "source": [
    "Mostramos por pantalla el resultado:"
   ]
  },
  {
   "cell_type": "code",
   "execution_count": 9,
   "id": "40b5b665",
   "metadata": {},
   "outputs": [
    {
     "name": "stdout",
     "output_type": "stream",
     "text": [
      "+-----+------+-----+\n",
      "|State|Color |Total|\n",
      "+-----+------+-----+\n",
      "|CA   |Yellow|1807 |\n",
      "|CA   |Green |1723 |\n",
      "|CA   |Brown |1718 |\n",
      "|CA   |Orange|1657 |\n",
      "|CA   |Red   |1656 |\n",
      "|CA   |Blue  |1603 |\n",
      "+-----+------+-----+\n",
      "\n",
      "Total Rows = 6\n"
     ]
    }
   ],
   "source": [
    "ca_count_mnm_df.show(n=10, truncate=False)\n",
    "print(\"Total Rows = %d\" % (ca_count_mnm_df.count()))"
   ]
  },
  {
   "cell_type": "markdown",
   "id": "87703237",
   "metadata": {},
   "source": [
    "***Ejercicios extras***"
   ]
  },
  {
   "cell_type": "markdown",
   "id": "d176d793",
   "metadata": {},
   "source": [
    "Máximo número por color, 5 primeros"
   ]
  },
  {
   "cell_type": "code",
   "execution_count": 11,
   "id": "50bf7620",
   "metadata": {},
   "outputs": [
    {
     "name": "stdout",
     "output_type": "stream",
     "text": [
      "+------+----------+\n",
      "|Color |max(Count)|\n",
      "+------+----------+\n",
      "|Orange|100       |\n",
      "|Brown |100       |\n",
      "|Red   |100       |\n",
      "|Green |100       |\n",
      "|Yellow|100       |\n",
      "+------+----------+\n",
      "only showing top 5 rows\n",
      "\n"
     ]
    }
   ],
   "source": [
    "max_col= (mnm_df\n",
    "          .select(\"Color\",\"Count\")\n",
    "          .groupBy(\"Color\")\n",
    "          .agg({\"Count\":\"max\"})\n",
    "          .orderBy(\"max(Count)\", ascending=True))\n",
    "max_col.show(n=5, truncate=False)\n"
   ]
  },
  {
   "cell_type": "markdown",
   "id": "6cc2ae13",
   "metadata": {},
   "source": [
    "Igual que el apartado anterior, por State"
   ]
  },
  {
   "cell_type": "code",
   "execution_count": 10,
   "id": "1fa3374b",
   "metadata": {},
   "outputs": [
    {
     "name": "stdout",
     "output_type": "stream",
     "text": [
      "+-----+------+----------+\n",
      "|State|Color |max(Count)|\n",
      "+-----+------+----------+\n",
      "|UT   |Blue  |100       |\n",
      "|NM   |Green |100       |\n",
      "|WA   |Red   |100       |\n",
      "|WA   |Orange|100       |\n",
      "|WY   |Green |100       |\n",
      "+-----+------+----------+\n",
      "only showing top 5 rows\n",
      "\n"
     ]
    }
   ],
   "source": [
    "max_col_Sta= (mnm_df\n",
    "          .select(\"Color\",\"Count\", \"State\")\n",
    "          .groupBy(\"State\",\"Color\")\n",
    "          .agg({\"Count\":\"max\"})\n",
    "          .orderBy(\"max(Count)\", ascending=True))\n",
    "max_col_Sta.show(n=5, truncate=False)"
   ]
  },
  {
   "cell_type": "markdown",
   "id": "d79e5781",
   "metadata": {},
   "source": [
    "Minimo número por color, 5 primeros"
   ]
  },
  {
   "cell_type": "code",
   "execution_count": 12,
   "id": "62e67803",
   "metadata": {},
   "outputs": [
    {
     "name": "stdout",
     "output_type": "stream",
     "text": [
      "+------+----------+\n",
      "|Color |min(Count)|\n",
      "+------+----------+\n",
      "|Orange|10        |\n",
      "|Green |10        |\n",
      "|Blue  |10        |\n",
      "|Brown |10        |\n",
      "|Yellow|10        |\n",
      "+------+----------+\n",
      "only showing top 5 rows\n",
      "\n"
     ]
    }
   ],
   "source": [
    "min_col= (mnm_df\n",
    "        .select(\"Color\",\"Count\")\n",
    "        .groupBy(\"Color\")\n",
    "        .agg({\"Count\":\"min\"})\n",
    "        .orderBy(\"min(Count)\", ascending=True))\n",
    "min_col.show(n=5, truncate=False)"
   ]
  },
  {
   "cell_type": "markdown",
   "id": "cfc7388a",
   "metadata": {},
   "source": [
    "Igual que el apartado anterior, por State\n"
   ]
  },
  {
   "cell_type": "code",
   "execution_count": 13,
   "id": "baedbf69",
   "metadata": {},
   "outputs": [
    {
     "name": "stdout",
     "output_type": "stream",
     "text": [
      "+-----+-----+----------+\n",
      "|State|Color|min(Count)|\n",
      "+-----+-----+----------+\n",
      "|NV   |Red  |10        |\n",
      "|NV   |Brown|10        |\n",
      "|WA   |Red  |10        |\n",
      "|CA   |Blue |10        |\n",
      "|NM   |Green|10        |\n",
      "+-----+-----+----------+\n",
      "only showing top 5 rows\n",
      "\n"
     ]
    }
   ],
   "source": [
    "min_col_Sta= (mnm_df\n",
    "              .select(\"Color\",\"Count\",\"State\")\n",
    "              .groupBy(\"State\",\"Color\")\n",
    "              .agg({\"Count\":\"min\"})\n",
    "              .orderBy(\"min(Count)\", ascending=True))\n",
    "min_col_Sta.show(n=5, truncate=False)"
   ]
  },
  {
   "cell_type": "markdown",
   "id": "ca661129",
   "metadata": {},
   "source": [
    "Igual que el apartado donde seleccionamos solo las filas de \"CA\", filtramos también por \"NV\", \"CO\" y \"TX\""
   ]
  },
  {
   "cell_type": "code",
   "execution_count": 14,
   "id": "137d8534",
   "metadata": {},
   "outputs": [
    {
     "name": "stdout",
     "output_type": "stream",
     "text": [
      "+-----+------+-----+\n",
      "|State|Color |Total|\n",
      "+-----+------+-----+\n",
      "|CA   |Yellow|1807 |\n",
      "|TX   |Green |1737 |\n",
      "|TX   |Red   |1725 |\n",
      "|CA   |Green |1723 |\n",
      "|CO   |Yellow|1721 |\n",
      "|CA   |Brown |1718 |\n",
      "|CO   |Green |1713 |\n",
      "|NV   |Orange|1712 |\n",
      "|TX   |Yellow|1703 |\n",
      "|NV   |Green |1698 |\n",
      "+-----+------+-----+\n",
      "only showing top 10 rows\n",
      "\n",
      "Total Rows = 6\n"
     ]
    }
   ],
   "source": [
    "St_count_mnm_df = (mnm_df\n",
    "                  .select(\"State\", \"Color\", \"Count\") \n",
    "                  .where((mnm_df.State ==\"TX\")|( mnm_df.State ==\"NV\")|( mnm_df.State ==\"CA\")|( mnm_df.State ==\"CO\") ) \n",
    "                  .groupBy(\"State\", \"Color\") \n",
    "                  .agg(count(\"Count\").alias(\"Total\")) \n",
    "                  .orderBy(\"Total\", ascending=False))\n",
    "St_count_mnm_df.show(n=10, truncate=False)\n",
    "print(\"Total Rows = %d\" % (ca_count_mnm_df.count()))"
   ]
  },
  {
   "cell_type": "markdown",
   "id": "bd420d05",
   "metadata": {},
   "source": [
    "Calculamos por estado y color: maximo, minimo, media y conteo."
   ]
  },
  {
   "cell_type": "code",
   "execution_count": 15,
   "id": "92ac003b",
   "metadata": {},
   "outputs": [
    {
     "name": "stdout",
     "output_type": "stream",
     "text": [
      "+-----+------+----------+----------+------------------+------------+\n",
      "|State|Color |min(Count)|max(Count)|avg(Count)        |count(Count)|\n",
      "+-----+------+----------+----------+------------------+------------+\n",
      "|AZ   |Blue  |10        |100       |54.99449877750611 |1636        |\n",
      "|AZ   |Brown |10        |100       |54.350412249705535|1698        |\n",
      "|AZ   |Green |10        |100       |54.82219570405728 |1676        |\n",
      "|AZ   |Orange|10        |100       |54.28300769686205 |1689        |\n",
      "|AZ   |Red   |10        |100       |54.637135922330096|1648        |\n",
      "|AZ   |Yellow|10        |100       |54.98548972188634 |1654        |\n",
      "|CA   |Blue  |10        |100       |55.59762944479102 |1603        |\n",
      "|CA   |Brown |10        |100       |55.740395809080326|1718        |\n",
      "|CA   |Green |10        |100       |54.268717353453276|1723        |\n",
      "|CA   |Orange|10        |100       |54.502715751357876|1657        |\n",
      "|CA   |Red   |10        |100       |55.26992753623188 |1656        |\n",
      "|CA   |Yellow|10        |100       |55.8693967902601  |1807        |\n",
      "|CO   |Blue  |10        |100       |55.11032448377581 |1695        |\n",
      "|CO   |Brown |10        |100       |56.57729468599034 |1656        |\n",
      "|CO   |Green |10        |100       |54.71336835960304 |1713        |\n",
      "|CO   |Orange|10        |100       |55.402557856272836|1642        |\n",
      "|CO   |Red   |10        |100       |55.089285714285715|1624        |\n",
      "|CO   |Yellow|10        |100       |55.22254503195816 |1721        |\n",
      "|NM   |Blue  |10        |100       |55.03663003663004 |1638        |\n",
      "|NM   |Brown |10        |100       |55.392412566686424|1687        |\n",
      "+-----+------+----------+----------+------------------+------------+\n",
      "only showing top 20 rows\n",
      "\n"
     ]
    }
   ],
   "source": [
    "calculos_mnm= (mnm_df\n",
    "              .select(\"Count\",\"State\",\"Color\")\n",
    "              .groupBy(\"State\",\"Color\")\n",
    "              .agg(F.min(\"Count\"),F.max(\"Count\"), F.avg(\"Count\"), F.count(\"Count\"))\n",
    "              .orderBy(\"State\", \"Color\"))\n",
    "\n",
    " \n",
    "\n",
    "calculos_mnm.show(n=20, truncate=False)"
   ]
  },
  {
   "cell_type": "markdown",
   "id": "9c33961f",
   "metadata": {},
   "source": [
    "### Scala"
   ]
  },
  {
   "cell_type": "markdown",
   "id": "f0afaccc",
   "metadata": {},
   "source": [
    "    Para ejecutar esta parte:\n",
    "     Kernel -> Change kernel -> spylon-kernel"
   ]
  },
  {
   "cell_type": "markdown",
   "id": "02ed351b",
   "metadata": {},
   "source": [
    "Cargamos las librerias:"
   ]
  },
  {
   "cell_type": "code",
   "execution_count": 1,
   "id": "a86cccf1",
   "metadata": {},
   "outputs": [
    {
     "data": {
      "text/plain": [
       "Intitializing Scala interpreter ..."
      ]
     },
     "metadata": {},
     "output_type": "display_data"
    },
    {
     "data": {
      "text/plain": [
       "Spark Web UI available at http://EM2021002836.bosonit.local:4040\n",
       "SparkContext available as 'sc' (version = 3.1.1, master = local[*], app id = local-1622113869365)\n",
       "SparkSession available as 'spark'\n"
      ]
     },
     "metadata": {},
     "output_type": "display_data"
    },
    {
     "data": {
      "text/plain": [
       "import org.apache.spark.sql.SparkSession\r\n",
       "import org.apache.spark.sql.functions._\r\n"
      ]
     },
     "execution_count": 1,
     "metadata": {},
     "output_type": "execute_result"
    }
   ],
   "source": [
    "import org.apache.spark.sql.SparkSession\n",
    "import org.apache.spark.sql.functions._"
   ]
  },
  {
   "cell_type": "markdown",
   "id": "3c496fcb",
   "metadata": {},
   "source": [
    "Creamos la variable Spark para crear nuestra SparkSession:"
   ]
  },
  {
   "cell_type": "code",
   "execution_count": 2,
   "id": "5ed51752",
   "metadata": {},
   "outputs": [
    {
     "data": {
      "text/plain": [
       "spark: org.apache.spark.sql.SparkSession = org.apache.spark.sql.SparkSession@4e014b50\r\n"
      ]
     },
     "execution_count": 2,
     "metadata": {},
     "output_type": "execute_result"
    }
   ],
   "source": [
    "val spark = SparkSession\n",
    "        .builder\n",
    "        .appName(\"MnMCount\")\n",
    "        .getOrCreate()"
   ]
  },
  {
   "cell_type": "markdown",
   "id": "e8814e24",
   "metadata": {},
   "source": [
    "Leemos nuestro conjunto de datos "
   ]
  },
  {
   "cell_type": "code",
   "execution_count": 3,
   "id": "0b18ef6f",
   "metadata": {},
   "outputs": [
    {
     "data": {
      "text/plain": [
       "mnmFile: String = C:/Users/nerea.gomez/Documents/Documentacion/Learning Spark/Datasets/mnm_dataset.csv\r\n"
      ]
     },
     "execution_count": 3,
     "metadata": {},
     "output_type": "execute_result"
    }
   ],
   "source": [
    "//Indicamos la ruta de nuestro conjunto de datos\n",
    "val mnmFile = \"C:/Users/nerea.gomez/Documents/Documentacion/Learning Spark/Datasets/mnm_dataset.csv\""
   ]
  },
  {
   "cell_type": "code",
   "execution_count": 4,
   "id": "d70e9365",
   "metadata": {},
   "outputs": [
    {
     "data": {
      "text/plain": [
       "mnmDF: org.apache.spark.sql.DataFrame = [State: string, Color: string ... 1 more field]\r\n"
      ]
     },
     "execution_count": 4,
     "metadata": {},
     "output_type": "execute_result"
    }
   ],
   "source": [
    "//Leemos el dataset\n",
    "val mnmDF = spark.read.format(\"csv\")\n",
    "         .option(\"header\", \"true\")\n",
    "         .option(\"inferSchema\", \"true\")\n",
    "         .load(mnmFile)"
   ]
  },
  {
   "cell_type": "markdown",
   "id": "85e8c42e",
   "metadata": {},
   "source": [
    "Realizamos una query para ordenar por total de veces los estados y sus colores."
   ]
  },
  {
   "cell_type": "code",
   "execution_count": 5,
   "id": "3aaf2aa6",
   "metadata": {},
   "outputs": [
    {
     "data": {
      "text/plain": [
       "countMnMDF: org.apache.spark.sql.Dataset[org.apache.spark.sql.Row] = [State: string, Color: string ... 1 more field]\r\n"
      ]
     },
     "execution_count": 5,
     "metadata": {},
     "output_type": "execute_result"
    }
   ],
   "source": [
    "val countMnMDF = mnmDF\n",
    "         .select(\"State\", \"Color\", \"Count\")\n",
    "         .groupBy(\"State\", \"Color\")\n",
    "         .agg(count(\"Count\").alias(\"Total\"))\n",
    "         .orderBy(desc(\"Total\"))"
   ]
  },
  {
   "cell_type": "markdown",
   "id": "64c8621b",
   "metadata": {},
   "source": [
    "Mostramos el resultado por pantalla:"
   ]
  },
  {
   "cell_type": "code",
   "execution_count": 6,
   "id": "ba429ee5",
   "metadata": {},
   "outputs": [
    {
     "name": "stdout",
     "output_type": "stream",
     "text": [
      "+-----+------+-----+\n",
      "|State| Color|Total|\n",
      "+-----+------+-----+\n",
      "|   CA|Yellow| 1807|\n",
      "|   WA| Green| 1779|\n",
      "|   OR|Orange| 1743|\n",
      "|   TX| Green| 1737|\n",
      "|   TX|   Red| 1725|\n",
      "|   CA| Green| 1723|\n",
      "|   CO|Yellow| 1721|\n",
      "|   CA| Brown| 1718|\n",
      "|   CO| Green| 1713|\n",
      "|   NV|Orange| 1712|\n",
      "|   TX|Yellow| 1703|\n",
      "|   NV| Green| 1698|\n",
      "|   AZ| Brown| 1698|\n",
      "|   CO|  Blue| 1695|\n",
      "|   WY| Green| 1695|\n",
      "|   NM|   Red| 1690|\n",
      "|   AZ|Orange| 1689|\n",
      "|   NM|Yellow| 1688|\n",
      "|   NM| Brown| 1687|\n",
      "|   UT|Orange| 1684|\n",
      "|   NM| Green| 1682|\n",
      "|   UT|   Red| 1680|\n",
      "|   AZ| Green| 1676|\n",
      "|   NV|Yellow| 1675|\n",
      "|   NV|  Blue| 1673|\n",
      "|   WA|   Red| 1671|\n",
      "|   WY|   Red| 1670|\n",
      "|   WA| Brown| 1669|\n",
      "|   NM|Orange| 1665|\n",
      "|   WY|  Blue| 1664|\n",
      "|   WA|Yellow| 1663|\n",
      "|   WA|Orange| 1658|\n",
      "|   NV| Brown| 1657|\n",
      "|   CA|Orange| 1657|\n",
      "|   CA|   Red| 1656|\n",
      "|   CO| Brown| 1656|\n",
      "|   UT|  Blue| 1655|\n",
      "|   AZ|Yellow| 1654|\n",
      "|   TX|Orange| 1652|\n",
      "|   AZ|   Red| 1648|\n",
      "|   OR|  Blue| 1646|\n",
      "|   OR|   Red| 1645|\n",
      "|   UT|Yellow| 1645|\n",
      "|   CO|Orange| 1642|\n",
      "|   TX| Brown| 1641|\n",
      "|   NM|  Blue| 1638|\n",
      "|   AZ|  Blue| 1636|\n",
      "|   OR| Green| 1634|\n",
      "|   UT| Brown| 1631|\n",
      "|   WY|Yellow| 1626|\n",
      "|   WA|  Blue| 1625|\n",
      "|   CO|   Red| 1624|\n",
      "|   OR| Brown| 1621|\n",
      "|   TX|  Blue| 1614|\n",
      "|   OR|Yellow| 1614|\n",
      "|   NV|   Red| 1610|\n",
      "|   CA|  Blue| 1603|\n",
      "|   WY|Orange| 1595|\n",
      "|   UT| Green| 1591|\n",
      "|   WY| Brown| 1532|\n",
      "+-----+------+-----+\n",
      "\r\n"
     ]
    }
   ],
   "source": [
    "countMnMDF.show(60)"
   ]
  },
  {
   "cell_type": "code",
   "execution_count": 7,
   "id": "a3220941",
   "metadata": {},
   "outputs": [
    {
     "name": "stdout",
     "output_type": "stream",
     "text": [
      "Total Rows = 60\r\n"
     ]
    }
   ],
   "source": [
    "println(s\"Total Rows = ${countMnMDF.count()}\")"
   ]
  },
  {
   "cell_type": "markdown",
   "id": "42edf11c",
   "metadata": {},
   "source": [
    "En este caso, la consulta es igual a la anterior pero solo mostramos los datos de CA."
   ]
  },
  {
   "cell_type": "code",
   "execution_count": 31,
   "id": "8b787af6",
   "metadata": {},
   "outputs": [
    {
     "data": {
      "text/plain": [
       "caCountMnMDF: org.apache.spark.sql.Dataset[org.apache.spark.sql.Row] = [State: string, Color: string ... 1 more field]\r\n"
      ]
     },
     "execution_count": 31,
     "metadata": {},
     "output_type": "execute_result"
    }
   ],
   "source": [
    "val caCountMnMDF = mnmDF\n",
    "         .select(\"State\", \"Color\", \"Count\")\n",
    "         .where(col(\"State\") === \"CA\")\n",
    "         .groupBy(\"State\", \"Color\")\n",
    "         .agg(count(\"Count\").alias(\"Total\"))\n",
    "         .orderBy(desc(\"Total\"))"
   ]
  },
  {
   "cell_type": "markdown",
   "id": "82210b8b",
   "metadata": {},
   "source": [
    "Mostramos el resultado por pantalla:"
   ]
  },
  {
   "cell_type": "code",
   "execution_count": 32,
   "id": "baedd16b",
   "metadata": {},
   "outputs": [
    {
     "name": "stdout",
     "output_type": "stream",
     "text": [
      "+-----+------+-----+\n",
      "|State| Color|Total|\n",
      "+-----+------+-----+\n",
      "|   CA|Yellow| 1807|\n",
      "|   CA| Green| 1723|\n",
      "|   CA| Brown| 1718|\n",
      "|   CA|Orange| 1657|\n",
      "|   CA|   Red| 1656|\n",
      "|   CA|  Blue| 1603|\n",
      "+-----+------+-----+\n",
      "\r\n"
     ]
    }
   ],
   "source": [
    "caCountMnMDF.show(10)"
   ]
  },
  {
   "cell_type": "code",
   "execution_count": 10,
   "id": "9ba0e5b3",
   "metadata": {},
   "outputs": [
    {
     "name": "stdout",
     "output_type": "stream",
     "text": [
      "Total Rows = 6\r\n"
     ]
    }
   ],
   "source": [
    "println(s\"Total Rows = ${caCountMnMDF.count()}\")"
   ]
  },
  {
   "cell_type": "markdown",
   "id": "c4bc3b26",
   "metadata": {},
   "source": [
    "***Ejercicios extras***"
   ]
  },
  {
   "cell_type": "markdown",
   "id": "53ffb668",
   "metadata": {},
   "source": [
    "Maximo por color y estado, mostramos los 5 primeros"
   ]
  },
  {
   "cell_type": "code",
   "execution_count": 17,
   "id": "6df678d1",
   "metadata": {},
   "outputs": [
    {
     "name": "stdout",
     "output_type": "stream",
     "text": [
      "+-----+------+----------+\n",
      "|State| Color|max(Count)|\n",
      "+-----+------+----------+\n",
      "|   NV|   Red|       100|\n",
      "|   WY| Green|       100|\n",
      "|   UT|  Blue|       100|\n",
      "|   WA|Orange|       100|\n",
      "|   WA|   Red|       100|\n",
      "+-----+------+----------+\n",
      "only showing top 5 rows\n",
      "\r\n"
     ]
    },
    {
     "data": {
      "text/plain": [
       "max_col_Sta: org.apache.spark.sql.Dataset[org.apache.spark.sql.Row] = [State: string, Color: string ... 1 more field]\r\n"
      ]
     },
     "execution_count": 17,
     "metadata": {},
     "output_type": "execute_result"
    }
   ],
   "source": [
    "val max_col_Sta= mnmDF\n",
    "          .select(\"Color\",\"Count\", \"State\")\n",
    "          .groupBy(\"State\",\"Color\")\n",
    "          .agg(max(\"Count\"))\n",
    "          .orderBy(asc(\"max(Count)\"))\n",
    "max_col_Sta.show(5)"
   ]
  },
  {
   "cell_type": "markdown",
   "id": "daa8688c",
   "metadata": {},
   "source": [
    "Igual que el apartado donde seleccionamos solo las filas de \"CA\", filtramos también por \"NV\", \"CO\" y \"TX\""
   ]
  },
  {
   "cell_type": "code",
   "execution_count": 53,
   "id": "1f168bf7",
   "metadata": {},
   "outputs": [
    {
     "name": "stdout",
     "output_type": "stream",
     "text": [
      "+-----+------+-----+\n",
      "|State| Color|Total|\n",
      "+-----+------+-----+\n",
      "|   CA|  Blue| 1603|\n",
      "|   NV|   Red| 1610|\n",
      "|   TX|  Blue| 1614|\n",
      "|   CO|   Red| 1624|\n",
      "|   TX| Brown| 1641|\n",
      "|   CO|Orange| 1642|\n",
      "|   TX|Orange| 1652|\n",
      "|   CO| Brown| 1656|\n",
      "|   CA|   Red| 1656|\n",
      "|   NV| Brown| 1657|\n",
      "|   CA|Orange| 1657|\n",
      "|   NV|  Blue| 1673|\n",
      "|   NV|Yellow| 1675|\n",
      "|   CO|  Blue| 1695|\n",
      "|   NV| Green| 1698|\n",
      "|   TX|Yellow| 1703|\n",
      "|   NV|Orange| 1712|\n",
      "|   CO| Green| 1713|\n",
      "|   CA| Brown| 1718|\n",
      "|   CO|Yellow| 1721|\n",
      "+-----+------+-----+\n",
      "only showing top 20 rows\n",
      "\r\n"
     ]
    },
    {
     "data": {
      "text/plain": [
       "St_count_mnm_df: org.apache.spark.sql.Dataset[org.apache.spark.sql.Row] = [State: string, Color: string ... 1 more field]\r\n"
      ]
     },
     "execution_count": 53,
     "metadata": {},
     "output_type": "execute_result"
    }
   ],
   "source": [
    "val St_count_mnm_df = mnmDF\n",
    "                  .select(\"State\", \"Color\", \"Count\")  \n",
    "                  .where(col(\"State\") === \"TX\" or col(\"State\") === \"NV\" or col(\"State\") === \"CA\" or col(\"State\") ===\"CO\") \n",
    "                  .groupBy(\"State\", \"Color\") \n",
    "                  .agg(count(\"Count\").alias(\"Total\")) \n",
    "                  .orderBy(asc(\"Total\"))\n",
    "St_count_mnm_df.show() "
   ]
  },
  {
   "cell_type": "markdown",
   "id": "f770b86d",
   "metadata": {},
   "source": [
    "Calculamos por estado y color: maximo, minimo, media y conteo."
   ]
  },
  {
   "cell_type": "code",
   "execution_count": 43,
   "id": "15d6cb28",
   "metadata": {},
   "outputs": [
    {
     "name": "stdout",
     "output_type": "stream",
     "text": [
      "+-----+------+------+------+------------------+-----+\n",
      "|State| Color|Minimo|Maximo|             Media|Count|\n",
      "+-----+------+------+------+------------------+-----+\n",
      "|   AZ|  Blue|    10|   100| 54.99449877750611| 1636|\n",
      "|   AZ| Brown|    10|   100|54.350412249705535| 1698|\n",
      "|   AZ| Green|    10|   100| 54.82219570405728| 1676|\n",
      "|   AZ|Orange|    10|   100| 54.28300769686205| 1689|\n",
      "|   AZ|   Red|    10|   100|54.637135922330096| 1648|\n",
      "|   AZ|Yellow|    10|   100| 54.98548972188634| 1654|\n",
      "|   CA|  Blue|    10|   100| 55.59762944479102| 1603|\n",
      "|   CA| Brown|    10|   100|55.740395809080326| 1718|\n",
      "|   CA| Green|    10|   100|54.268717353453276| 1723|\n",
      "|   CA|Orange|    10|   100|54.502715751357876| 1657|\n",
      "|   CA|   Red|    10|   100| 55.26992753623188| 1656|\n",
      "|   CA|Yellow|    10|   100|  55.8693967902601| 1807|\n",
      "|   CO|  Blue|    10|   100| 55.11032448377581| 1695|\n",
      "|   CO| Brown|    10|   100| 56.57729468599034| 1656|\n",
      "|   CO| Green|    10|   100| 54.71336835960304| 1713|\n",
      "|   CO|Orange|    10|   100|55.402557856272836| 1642|\n",
      "|   CO|   Red|    10|   100|55.089285714285715| 1624|\n",
      "|   CO|Yellow|    10|   100| 55.22254503195816| 1721|\n",
      "|   NM|  Blue|    10|   100| 55.03663003663004| 1638|\n",
      "|   NM| Brown|    10|   100|55.392412566686424| 1687|\n",
      "+-----+------+------+------+------------------+-----+\n",
      "only showing top 20 rows\n",
      "\r\n"
     ]
    },
    {
     "data": {
      "text/plain": [
       "calculos_mnm: org.apache.spark.sql.Dataset[org.apache.spark.sql.Row] = [State: string, Color: string ... 4 more fields]\r\n"
      ]
     },
     "execution_count": 43,
     "metadata": {},
     "output_type": "execute_result"
    }
   ],
   "source": [
    "val calculos_mnm= mnmDF\n",
    "              .select(\"Count\",\"State\",\"Color\")\n",
    "              .groupBy(\"State\",\"Color\")\n",
    "              .agg(min(\"Count\").alias(\"Minimo\"), max(\"Count\").alias(\"Maximo\"), avg(\"Count\").alias(\"Media\"), count(\"Count\").alias(\"Count\"))\n",
    "              .orderBy(\"State\", \"Color\")\n",
    "calculos_mnm.show()"
   ]
  }
 ],
 "metadata": {
  "kernelspec": {
   "display_name": "Python 3",
   "language": "python",
   "name": "python3"
  },
  "language_info": {
   "codemirror_mode": {
    "name": "ipython",
    "version": 3
   },
   "file_extension": ".py",
   "mimetype": "text/x-python",
   "name": "python",
   "nbconvert_exporter": "python",
   "pygments_lexer": "ipython3",
   "version": "3.8.8"
  }
 },
 "nbformat": 4,
 "nbformat_minor": 5
}
