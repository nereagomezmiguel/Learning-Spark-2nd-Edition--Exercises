{
 "cells": [
  {
   "cell_type": "markdown",
   "id": "3a713ad8",
   "metadata": {},
   "source": [
    "# Ejemplo El Quijote"
   ]
  },
  {
   "cell_type": "markdown",
   "id": "f28ca0c1",
   "metadata": {},
   "source": [
    "Para llevar a cabo estos ejercicios he descargado el documento \"el_quijote.txt\" del repositorio de GitHub:  \n",
    "https://gist.github.com/jsdario/6d6c69398cb0c73111e49f1218960f79\n"
   ]
  },
  {
   "cell_type": "markdown",
   "id": "e2ddfb5c",
   "metadata": {},
   "source": [
    "### Scala"
   ]
  },
  {
   "cell_type": "markdown",
   "id": "4fdc2d55",
   "metadata": {},
   "source": [
    "    Para ejecutar esta parte:\n",
    "     Kernel -> Change kernel -> spylon-kernel"
   ]
  },
  {
   "cell_type": "markdown",
   "id": "3ce84444",
   "metadata": {},
   "source": [
    "Importamos las librerias necesarias:"
   ]
  },
  {
   "cell_type": "code",
   "execution_count": 1,
   "id": "03849c80",
   "metadata": {},
   "outputs": [
    {
     "data": {
      "text/plain": [
       "Intitializing Scala interpreter ..."
      ]
     },
     "metadata": {},
     "output_type": "display_data"
    },
    {
     "data": {
      "text/plain": [
       "Spark Web UI available at http://EM2021002836.bosonit.local:4041\n",
       "SparkContext available as 'sc' (version = 3.1.1, master = local[*], app id = local-1622124070795)\n",
       "SparkSession available as 'spark'\n"
      ]
     },
     "metadata": {},
     "output_type": "display_data"
    },
    {
     "data": {
      "text/plain": [
       "import org.apache.spark.sql.SparkSession\r\n",
       "import org.apache.spark.sql.functions._\r\n"
      ]
     },
     "execution_count": 1,
     "metadata": {},
     "output_type": "execute_result"
    }
   ],
   "source": [
    "import org.apache.spark.sql.SparkSession\n",
    "import org.apache.spark.sql.functions._"
   ]
  },
  {
   "cell_type": "markdown",
   "id": "afeb2c20",
   "metadata": {},
   "source": [
    "Creamos SparkSession"
   ]
  },
  {
   "cell_type": "code",
   "execution_count": 2,
   "id": "c8e7ce77",
   "metadata": {},
   "outputs": [
    {
     "data": {
      "text/plain": [
       "spark: org.apache.spark.sql.SparkSession = org.apache.spark.sql.SparkSession@55eab8c9\r\n"
      ]
     },
     "execution_count": 2,
     "metadata": {},
     "output_type": "execute_result"
    }
   ],
   "source": [
    "val spark = SparkSession\n",
    "        .builder\n",
    "        .appName(\"Quijote\")\n",
    "        .getOrCreate()"
   ]
  },
  {
   "cell_type": "code",
   "execution_count": 3,
   "id": "cfdb31df",
   "metadata": {},
   "outputs": [
    {
     "data": {
      "text/plain": [
       "quijoteFile: String = C:/Users/nerea.gomez/Documents/Documentacion/Learning Spark/Datasets/el_quijote.txt\r\n"
      ]
     },
     "execution_count": 3,
     "metadata": {},
     "output_type": "execute_result"
    }
   ],
   "source": [
    "//Indicamos la ruta de nuestro conjunto de datos\n",
    "val quijoteFile = \"C:/Users/nerea.gomez/Documents/Documentacion/Learning Spark/Datasets/el_quijote.txt\""
   ]
  },
  {
   "cell_type": "code",
   "execution_count": 4,
   "id": "16ec145a",
   "metadata": {},
   "outputs": [
    {
     "data": {
      "text/plain": [
       "QuijDF: org.apache.spark.rdd.RDD[String] = C:/Users/nerea.gomez/Documents/Documentacion/Learning Spark/Datasets/el_quijote.txt MapPartitionsRDD[1] at textFile at <console>:32\r\n"
      ]
     },
     "execution_count": 4,
     "metadata": {},
     "output_type": "execute_result"
    }
   ],
   "source": [
    "//Leemos el dataset\n",
    "val QuijDF = sc.textFile(quijoteFile)"
   ]
  },
  {
   "cell_type": "markdown",
   "id": "1b4871f9",
   "metadata": {},
   "source": [
    "Contamos el número de lineas que tiene nuestro documento:"
   ]
  },
  {
   "cell_type": "code",
   "execution_count": 5,
   "id": "ae77afdb",
   "metadata": {},
   "outputs": [
    {
     "data": {
      "text/plain": [
       "res0: Long = 2186\r\n"
      ]
     },
     "execution_count": 5,
     "metadata": {},
     "output_type": "execute_result"
    }
   ],
   "source": [
    "QuijDF.count()"
   ]
  },
  {
   "cell_type": "markdown",
   "id": "7cec0c99",
   "metadata": {},
   "source": [
    "Mostramos el contenido del documento con la funcion collect(). Esta función nos va a devolver un array que contenga separado por comas las lineas del documento:"
   ]
  },
  {
   "cell_type": "code",
   "execution_count": 8,
   "id": "4f33777e",
   "metadata": {},
   "outputs": [],
   "source": [
    "//QuijDF.collect()"
   ]
  },
  {
   "cell_type": "markdown",
   "id": "58dc8ef5",
   "metadata": {},
   "source": [
    "Con la función foreach() vamos a obtener el documento como esta guardado en el txt."
   ]
  },
  {
   "cell_type": "code",
   "execution_count": 9,
   "id": "d26f4ce6",
   "metadata": {},
   "outputs": [],
   "source": [
    "//QuijDF.collect.foreach(println)"
   ]
  },
  {
   "cell_type": "markdown",
   "id": "3f8ea783",
   "metadata": {},
   "source": [
    "Take(n) va a devolver las n primeras lineas que contiene el documento en forma de array:"
   ]
  },
  {
   "cell_type": "code",
   "execution_count": 7,
   "id": "b5de78b1",
   "metadata": {},
   "outputs": [
    {
     "data": {
      "text/plain": [
       "res2: Array[String] = Array(DON QUIJOTE DE LA MANCHA, Miguel de Cervantes Saavedra, \"\", PRIMERA PARTE, CAPI?TULO 1: Que trata de la condicio?n y ejercicio del famoso hidalgo D. Quijote de la Mancha)\r\n"
      ]
     },
     "execution_count": 7,
     "metadata": {},
     "output_type": "execute_result"
    }
   ],
   "source": [
    "QuijDF.take(5)"
   ]
  },
  {
   "cell_type": "markdown",
   "id": "65f3a467",
   "metadata": {},
   "source": [
    "Si combinamos la función take con la función foreach obtenemos un resultado más visual, nos devuelve las lineas tal y como están escritas en el documento."
   ]
  },
  {
   "cell_type": "code",
   "execution_count": 8,
   "id": "abe606ce",
   "metadata": {},
   "outputs": [
    {
     "name": "stdout",
     "output_type": "stream",
     "text": [
      "DON QUIJOTE DE LA MANCHA\n",
      "Miguel de Cervantes Saavedra\n",
      "\n",
      "PRIMERA PARTE\n",
      "CAPI?TULO 1: Que trata de la condicio?n y ejercicio del famoso hidalgo D. Quijote de la Mancha\n"
     ]
    }
   ],
   "source": [
    "QuijDF.take(5).foreach(println)"
   ]
  },
  {
   "cell_type": "markdown",
   "id": "a87c9e6c",
   "metadata": {},
   "source": [
    "La función first devuelve la primera linea del documento"
   ]
  },
  {
   "cell_type": "code",
   "execution_count": 16,
   "id": "8c75377a",
   "metadata": {},
   "outputs": [
    {
     "data": {
      "text/plain": [
       "res11: String = DON QUIJOTE DE LA MANCHA\r\n"
      ]
     },
     "execution_count": 16,
     "metadata": {},
     "output_type": "execute_result"
    }
   ],
   "source": [
    "QuijDF.first"
   ]
  },
  {
   "cell_type": "markdown",
   "id": "1636d4d0",
   "metadata": {},
   "source": [
    "La diferencia entre first y take() es que first te devuelve solo la primera linea del documento y con take te devuelve en forma de array el número de lineas que pidas en el paréntesis."
   ]
  },
  {
   "cell_type": "markdown",
   "id": "9f864799",
   "metadata": {},
   "source": [
    "### Python"
   ]
  },
  {
   "cell_type": "markdown",
   "id": "3493fd63",
   "metadata": {},
   "source": [
    "    Para ejecutar esta parte:\n",
    "     Kernel -> Change kernel -> Python 3"
   ]
  },
  {
   "cell_type": "markdown",
   "id": "c71d3d56",
   "metadata": {},
   "source": [
    "Importamos las librerias necesarias:"
   ]
  },
  {
   "cell_type": "code",
   "execution_count": 1,
   "id": "206e5ba2",
   "metadata": {},
   "outputs": [],
   "source": [
    "import sys\n",
    "from pyspark.sql import SparkSession\n",
    "from pyspark.sql.functions import count"
   ]
  },
  {
   "cell_type": "markdown",
   "id": "34777911",
   "metadata": {},
   "source": [
    "Creamos una SparkSession:"
   ]
  },
  {
   "cell_type": "code",
   "execution_count": 2,
   "id": "27c9dfe1",
   "metadata": {},
   "outputs": [],
   "source": [
    "spark = (SparkSession\n",
    "        .builder\n",
    "        .appName(\"PythonMnMCount\")\n",
    "        .getOrCreate())"
   ]
  },
  {
   "cell_type": "markdown",
   "id": "eb846699",
   "metadata": {},
   "source": [
    "Leemos el documento de texto"
   ]
  },
  {
   "cell_type": "code",
   "execution_count": 4,
   "id": "a9f2102d",
   "metadata": {},
   "outputs": [],
   "source": [
    "file = \"C:/Users/nerea.gomez/Documents/Documentacion/Learning Spark/Datasets/el_quijote.csv\""
   ]
  },
  {
   "cell_type": "code",
   "execution_count": 5,
   "id": "0cbcac43",
   "metadata": {},
   "outputs": [],
   "source": [
    "quijote = (spark.read.format(\"csv\")\n",
    " .option(\"inferSchema\", \"true\")\n",
    " .load(file))"
   ]
  },
  {
   "cell_type": "markdown",
   "id": "3720bacd",
   "metadata": {},
   "source": [
    "Con la función show observamos lo que tenemos en las primeras filas del csv. Con el parámetro n establecemos el número de lineas que queremos mostrar. El parámetro truncate=False muestra las lineas COMPLETAS."
   ]
  },
  {
   "cell_type": "code",
   "execution_count": 11,
   "id": "86b2ed4d",
   "metadata": {},
   "outputs": [
    {
     "name": "stdout",
     "output_type": "stream",
     "text": [
      "+--------------------------------------------------------------------------------------------------+\n",
      "|_c0                                                                                               |\n",
      "+--------------------------------------------------------------------------------------------------+\n",
      "|DON QUIJOTE DE LA MANCHA                                                                          |\n",
      "|Miguel de Cervantes Saavedra                                                                      |\n",
      "|PRIMERA PARTE                                                                                     |\n",
      "|CAPÍTULO 1: Que trata de la condición y ejercicio del famoso hidalgo D. Quijote de la Mancha    |\n",
      "|En un lugar de la Mancha                                                                          |\n",
      "|Tuvo muchas veces competencia con el cura de su lugar (que era hombre docto graduado en Sigüenza)|\n",
      "+--------------------------------------------------------------------------------------------------+\n",
      "only showing top 6 rows\n",
      "\n"
     ]
    }
   ],
   "source": [
    "quijote.show(n=6,truncate =False)"
   ]
  },
  {
   "cell_type": "markdown",
   "id": "53e6643f",
   "metadata": {},
   "source": [
    "A diferencia del anterior, cuando establecemos el parámetro truncate=True(es el que viene por defecto), la función solo nos muestra una parte de las lineas."
   ]
  },
  {
   "cell_type": "code",
   "execution_count": 10,
   "id": "d28d8c32",
   "metadata": {},
   "outputs": [
    {
     "name": "stdout",
     "output_type": "stream",
     "text": [
      "+--------------------+\n",
      "|                 _c0|\n",
      "+--------------------+\n",
      "|DON QUIJOTE DE LA...|\n",
      "|Miguel de Cervant...|\n",
      "|       PRIMERA PARTE|\n",
      "|CAPÍTULO 1: Que ...|\n",
      "|En un lugar de la...|\n",
      "|Tuvo muchas veces...|\n",
      "+--------------------+\n",
      "only showing top 6 rows\n",
      "\n"
     ]
    }
   ],
   "source": [
    "quijote.show(n=6, truncate =True)"
   ]
  },
  {
   "cell_type": "markdown",
   "id": "3aa35af4",
   "metadata": {},
   "source": [
    "La función count nos devuelve el número de lineas que tiene el documento."
   ]
  },
  {
   "cell_type": "code",
   "execution_count": 12,
   "id": "90b6f127",
   "metadata": {},
   "outputs": [
    {
     "data": {
      "text/plain": [
       "2185"
      ]
     },
     "execution_count": 12,
     "metadata": {},
     "output_type": "execute_result"
    }
   ],
   "source": [
    "quijote.count()"
   ]
  },
  {
   "cell_type": "markdown",
   "id": "1f406036",
   "metadata": {},
   "source": [
    "La función collect() en este caso nos devuelve todas las lineas del documento separadas por comas."
   ]
  },
  {
   "cell_type": "code",
   "execution_count": 13,
   "id": "fe806ea3",
   "metadata": {},
   "outputs": [
    {
     "data": {
      "text/plain": [
       "[Row(_c0='DON QUIJOTE DE LA MANCHA'),\n",
       " Row(_c0='Miguel de Cervantes Saavedra'),\n",
       " Row(_c0='PRIMERA PARTE'),\n",
       " Row(_c0='CAPÍTULO 1: Que trata de la condición y ejercicio del famoso hidalgo D. Quijote de la Mancha'),\n",
       " Row(_c0='En un lugar de la Mancha'),\n",
       " Row(_c0='Tuvo muchas veces competencia con el cura de su lugar (que era hombre docto graduado en Sigüenza)'),\n",
       " Row(_c0='En resolución'),\n",
       " Row(_c0='historia más cierta en el mundo.'),\n",
       " Row(_c0='Decía él'),\n",
       " Row(_c0='En efecto'),\n",
       " Row(_c0='Imaginábase el pobre ya coronado por el valor de su brazo por lo menos del imperio de Trapisonda: y así con estos tan agradables pensamientos'),\n",
       " Row(_c0='linaje y patria'),\n",
       " Row(_c0='Limpias'),\n",
       " Row(_c0='Capítulo 2: Que trata de la primera salida que de su tierra hizo el ingenioso D. Quijote'),\n",
       " Row(_c0='Hechas'),\n",
       " Row(_c0='Estos pensamientos le hicieron titubear en su propósito; mas pudiendo más su locura que otra razón alguna'),\n",
       " Row(_c0='Con estos iba ensartando otros disparates'),\n",
       " Row(_c0='Autores hay que dicen que la primera aventura que le avino fue la de Puerto Lápice; otros dicen que la de los molinos de viento; pero lo que yo he podido averiguar en este caso'),\n",
       " Row(_c0='muertos de hambre; y que mirando a todas partes'),\n",
       " Row(_c0='Fuese llegando a la venta (que a él le parecía castillo)'),\n",
       " Row(_c0='El lenguaje no entendido de las señoras'),\n",
       " Row(_c0='Pensó el huésped que el haberle llamado castellano había sido por haberle parecido de los senos de Castilla'),\n",
       " Row(_c0='porque era la mejor pieza que comía pan en el mundo. Miróle el ventero'),\n",
       " Row(_c0='Nunca fuera caballero de damas tan bien servido'),\n",
       " Row(_c0='O Rocinante'),\n",
       " Row(_c0='Preguntáronle si por ventura comería su merced truchuela'),\n",
       " Row(_c0='Estando en esto'),\n",
       " Row(_c0='Capítulo 3: Donde se cuenta la graciosa manera que tuvo D. Quijote en armarse caballero'),\n",
       " Row(_c0='Y así'),\n",
       " Row(_c0='El ventero'),\n",
       " Row(_c0='Preguntóle si traía dineros: respondió Don Quijote que no traía blanca'),\n",
       " Row(_c0='quedaban sanos de sus llagas y heridas'),\n",
       " Row(_c0='Contó el ventero a todos cuantos estaban en la venta la locura de su huésped'),\n",
       " Row(_c0='Antojósele en esto a uno de los arrieros que estaban en la venta ir a dar agua a su recua'),\n",
       " Row(_c0='hubiera recibido la orden de caballería'),\n",
       " Row(_c0='No le parecieron bien al ventero las burlas de su huésped'),\n",
       " Row(_c0='Hechas'),\n",
       " Row(_c0='Capítulo 4: De lo que le sucedió a nuestro caballero cuando salió de la venta'),\n",
       " Row(_c0='La del alba sería cuando Don Quijote salió de la venta'),\n",
       " Row(_c0='El labrador'),\n",
       " Row(_c0='¿Irme yo con él'),\n",
       " Row(_c0='Quijote; basta que yo se lo mande para que me tenga respeto'),\n",
       " Row(_c0='Importa poco eso'),\n",
       " Row(_c0='Y en diciendo esto picó a su Rocinante'),\n",
       " Row(_c0='Y de esta manera deshizo el agravio el valeroso Don Quijote'),\n",
       " Row(_c0='Apenas les divisó Don Quijote'),\n",
       " Row(_c0='trecho que se pudieron ver y oír'),\n",
       " Row(_c0='Paráronse los mercaderes al son de estas razones'),\n",
       " Row(_c0='Capítulo 5: Donde se prosigue la narración de la desgracia de nuestro caballero'),\n",
       " Row(_c0='Viendo'),\n",
       " Row(_c0='¿Dónde estáis'),\n",
       " Row(_c0='O no lo sabes'),\n",
       " Row(_c0='o eres falsa y desleal.'),\n",
       " Row(_c0='Y de esta manera fue prosiguiendo el romance hasta aquellos versos que dicen:'),\n",
       " Row(_c0='Oh noble marquás de Mantua'),\n",
       " Row(_c0='Y quiso la suerte que cuando llegó a este verso acertó a pasar por allí un labrador de su mismo lugar'),\n",
       " Row(_c0='en el mundo. A esto respondió el labrador: mire vuestra merced'),\n",
       " Row(_c0='En estas pláticas y otras semejantes llegaron al lugar a la hora que anochecía; pero el labrador aguardó a que fuese algo más noche'),\n",
       " Row(_c0='han vuelto el juicio; que ahora me acuerdo haberle oído decir muchas veces hablando entre sí'),\n",
       " Row(_c0='Todo esto estaban oyendo el labrador y Don Quijote'),\n",
       " Row(_c0='Lleváronle luego a la cama'),\n",
       " Row(_c0='diesen de comer y le dejasen dormir'),\n",
       " Row(_c0='Capítulo 6: Del donoso y grande escrutinio que el cura y el barbero hicieron en la librería de nuestro ingenioso hidalgo'),\n",
       " Row(_c0='El cual aún todavía dormía. Pidió las llaves a la sobrina del aposento donde estaban los libros autores del daño'),\n",
       " Row(_c0='Y el primero que maese Nicolás le dió en las manos'),\n",
       " Row(_c0='Adelante'),\n",
       " Row(_c0='Abrióse otro libro'),\n",
       " Row(_c0='Caco'),\n",
       " Row(_c0='Todo lo confirmó el barbero'),\n",
       " Row(_c0='Que me place'),\n",
       " Row(_c0='Llevadle a casa y leedle'),\n",
       " Row(_c0='respondió el barbero; pero ¿qué haremos de estos pequeños libros que quedan? Estos'),\n",
       " Row(_c0='Y pues comenzamos por la Diana de Montemayor'),\n",
       " Row(_c0='Pues no hay más que hacer'),\n",
       " Row(_c0='Su libro tiene algo de buena invención'),\n",
       " Row(_c0='hubiera mandado quemar'),\n",
       " Row(_c0='Capítulo 7: De la segunda salida de nuestro buen caballero D. Quijote de la Mancha'),\n",
       " Row(_c0='Estando en esto'),\n",
       " Row(_c0='Aquella noche quemó y abrasó el ama cuantos libros había en el corral y en toda la casa'),\n",
       " Row(_c0='De allí a dos días se levantó Don Quijote'),\n",
       " Row(_c0='lo pueda estorbar'),\n",
       " Row(_c0='Todo lo cual hecho y cumplido'),\n",
       " Row(_c0='tuviese otros a él adherentes'),\n",
       " Row(_c0='Capítulo 8: Del buen suceso que el valeroso Don Quijote tuvo en la espantable y jamás imaginada aventura de los molinos de viento'),\n",
       " Row(_c0='En esto descubrieron treinta o cuarenta molinos de viento que hay en aquel campo'),\n",
       " Row(_c0='Y en diciendo esto'),\n",
       " Row(_c0='la verdad'),\n",
       " Row(_c0='No la pasó así Sancho Panza'),\n",
       " Row(_c0='Tornaron a su comenzado camino del puerto Lápice'),\n",
       " Row(_c0='hurtada alguna princesa en aquel coche'),\n",
       " Row(_c0='Detuvieron los frailes las riendas'),\n",
       " Row(_c0='El vizcaíno'),\n",
       " Row(_c0='Capítulo 9: Donde se concluye y da fin a la estupenda batalla que el gallardo vizcaíno y el valiente manchego tuvieron'),\n",
       " Row(_c0='Dejamos en el anterior capítulo al valeroso vizcaíno y al famoso Don Quijote con las espadas altas y desnudas'),\n",
       " Row(_c0='decía: Historia de Don Quijote de la Mancha'),\n",
       " Row(_c0='Mucha discreción fue menester para disimular el contento que recibí cuando llegó a mis oídos el título del libro; y salteándosele al sedero'),\n",
       " Row(_c0='Si a esta se le puede poner alguna objeción acerca de su verdad'),\n",
       " Row(_c0='En fin'),\n",
       " Row(_c0='furia descargó sobre el vizcaíno'),\n",
       " Row(_c0='Estaba el vizcaíno tan turbado que no podía responder palabra'),\n",
       " Row(_c0='Capítulo 10: De los graciosos razonamientos que pasaron entre D. Quijote y Sancho Panza su escudero'),\n",
       " Row(_c0='Ya en este tiempo se había levantado Sancho Panza algo maltratado de los mozos de los frailes'),\n",
       " Row(_c0='Seguíale Sancho a todo trote de su jumento; pero caminaba tanto Rocinante'),\n",
       " Row(_c0='Todo esto fuera bien escusado'),\n",
       " Row(_c0='menester yo más para pasar esta vida honrada y descansadamente; pero es de saber ahora si tiene mucha costa el hacella. Con menos de tres reales se pueden hacer tres azumbres'),\n",
       " Row(_c0='Sacó Sancho de las alforjas hilas y ungüento; mas cuando Don Quijote llegó a ver rota su celada'),\n",
       " Row(_c0='Aquí trayo una cebolla y un poco de queso'),\n",
       " Row(_c0='sacar la caballería andante de sus quicios. Perdóneme vuestra merced'),\n",
       " Row(_c0='Y sacando en esto lo que dijo que traía'),\n",
       " Row(_c0='Capítulo 11: De lo que sucedió a Don Quijote con unos cabreros'),\n",
       " Row(_c0='Fue recogido de los cabreros con buen ánimo'),\n",
       " Row(_c0='¡Dichosa edad y siglos dichosos aquellos a quien los antiguos pusieron nombre de dorados'),\n",
       " Row(_c0='Eran en aquella santa edad todas las cosas comunes; a nadie le era necesario'),\n",
       " Row(_c0='nuestra primera madre'),\n",
       " Row(_c0='Toda esta larga arenga (que se pudiera muy bien excusar) dijo nuestro caballero'),\n",
       " Row(_c0='ANTONIO'),\n",
       " Row(_c0='Yo sé'),\n",
       " Row(_c0='Porque sé que eres sabida'),\n",
       " Row(_c0='en que me quieres me afirmo'),\n",
       " Row(_c0='Bien es verdad que tal vez'),\n",
       " Row(_c0='Más allá'),\n",
       " Row(_c0='tal vez la esperanza muestra la orilla de su vestido.'),\n",
       " Row(_c0='Abalánzase al señuelo'),\n",
       " Row(_c0='mi fe que nunca ha podido ni menguar por no llamado ni crecer por escogido.'),\n",
       " Row(_c0='Si el amor es cortesía'),\n",
       " Row(_c0='de la que tienes colijo'),\n",
       " Row(_c0='que al fin de mis esperanzas ha de ser cual imagino.'),\n",
       " Row(_c0='Y si son servicios parte'),\n",
       " Row(_c0='de hacer un pecho benigno'),\n",
       " Row(_c0='Porque'),\n",
       " Row(_c0='Como el amor y la gala andan un mismo camino'),\n",
       " Row(_c0='Dejo el bailar por tu causa'),\n",
       " Row(_c0='ni las músicas te pinto'),\n",
       " Row(_c0='que has escuchado a deshoras y al canto del gallo primo.'),\n",
       " Row(_c0='No cuento las alabanzas'),\n",
       " Row(_c0='que de tu belleza he dicho'),\n",
       " Row(_c0='Teresa del Berrocal'),\n",
       " Row(_c0='yo alabándote'),\n",
       " Row(_c0='Tal piensa que adora un ángel'),\n",
       " Row(_c0='y a los cabellos postizos'),\n",
       " Row(_c0='y a hipócritas hermosuras'),\n",
       " Row(_c0='que engañan al amor mismo. Desmentíla'),\n",
       " Row(_c0='volvió por ella su primo'),\n",
       " Row(_c0='lo que yo hice y él hizo.'),\n",
       " Row(_c0='No te quiero yo a montón'),\n",
       " Row(_c0='ni te pretendo y te sirvo'),\n",
       " Row(_c0='por lo de barraganía'),\n",
       " Row(_c0='que más bueno es mi designio. Coyundas tiene la iglesia'),\n",
       " Row(_c0='que son lazadas de sirgo'),\n",
       " Row(_c0='Donde no'),\n",
       " Row(_c0='Con esto dio el cabrero fin a su canto'),\n",
       " Row(_c0='Capítulo 12: De lo que contó un cabrero a los que estaban con Don Quijote'),\n",
       " Row(_c0='Estando en esto llegó otro mozo de los que les traían de la aldea el bastimento'),\n",
       " Row(_c0='Y Don Quijote rogó a Pedro le dijese qué muerto era aquel y qué pastora aquella. A lo cual Pedro respondió'),\n",
       " Row(_c0='Principalmente decían que sabía la ciencia de las estrellas'),\n",
       " Row(_c0='despoblados en pos de aquella pastora Marcela que nuestro zagal nombró denantes'),\n",
       " Row(_c0='Digo'),\n",
       " Row(_c0='Así es la verdad'),\n",
       " Row(_c0='La del Señor no me falte'),\n",
       " Row(_c0='con que mira por su honra'),\n",
       " Row(_c0='En cuidado me lo tengo'),\n",
       " Row(_c0='Sancho Panza que ya daba al diablo el tanto hablar del cabrero'),\n",
       " Row(_c0='Capítulo 13: Donde se da fin al cuento de la pastora Marcela'),\n",
       " Row(_c0='Mas apenas comenzó a descubrirse el día por los balcones del Oriente'),\n",
       " Row(_c0='En llegándose a juntar se saludaron cortésmente'),\n",
       " Row(_c0='Cesó esta plática y comenzóse otra'),\n",
       " Row(_c0='Nunca fuera caballero'),\n",
       " Row(_c0='de damas tan bien servido'),\n",
       " Row(_c0='con aquel progreso tan dulce y tan suave de sus amorosos y fuertes fechos. Pues desde entonces'),\n",
       " Row(_c0='Por estas razones que dijo'),\n",
       " Row(_c0='De ese parecer estoy yo'),\n",
       " Row(_c0='Señor'),\n",
       " Row(_c0='entre dientes'),\n",
       " Row(_c0='Eso no puede ser'),\n",
       " Row(_c0='Luego si es de esencia que todo caballero andante haya de ser enamorado'),\n",
       " Row(_c0='familias de los venideros siglos; y no se me replique en esto'),\n",
       " Row(_c0='Nadie las mueva'),\n",
       " Row(_c0='que estar no pueda con Roldán a prueba.'),\n",
       " Row(_c0='Aunque el mío es de los Cachopines de Laredo'),\n",
       " Row(_c0='En estas pláticas iban cuando vieron que por la quiebra que dos altas montañas hacían'),\n",
       " Row(_c0='acertado que se cumpla la voluntad de quien lo ordena y afuera de todo razonable discurso; y no le tuviera bueno Augusto César'),\n",
       " Row(_c0='Capítulo 14: Donde se ponen los versos desesperados del difunto pastor'),\n",
       " Row(_c0='CANCION DE GRISOSTOMO'),\n",
       " Row(_c0='Ya que quieres'),\n",
       " Row(_c0='de lengua en lengua'),\n",
       " Row(_c0='Haré que el mismo infierno comunique'),\n",
       " Row(_c0='al triste pecho mío un son doliente'),\n",
       " Row(_c0='con que el uso común de mi voz tuerza.'),\n",
       " Row(_c0='Y al par de mi deseo que se esfuerza a decir mi dolor y tus hazañas'),\n",
       " Row(_c0='de la espantable voz irá el acento'),\n",
       " Row(_c0='y en él mezclados por mayor tormento pedazos de las míseras entrañas.'),\n",
       " Row(_c0='Escucha'),\n",
       " Row(_c0='por gusto mío sale y tu despecho.'),\n",
       " Row(_c0='El rugir del león'),\n",
       " Row(_c0='el temeroso aullido'),\n",
       " Row(_c0='Bbaladro de algún monstruo'),\n",
       " Row(_c0='Del ya vencido toro el implacable bramido'),\n",
       " Row(_c0='el sensible arrullar'),\n",
       " Row(_c0='Salgan con la doliente ánima fuera'),\n",
       " Row(_c0='De tanta confusión'),\n",
       " Row(_c0='del padre Tajo oirán los tristes ecos'),\n",
       " Row(_c0='ni del famoso Betis las olivas:'),\n",
       " Row(_c0='que allí se esparcirán mis duras penas en altos riscos y en profundos huecos'),\n",
       " Row(_c0='O ya en oscuros valles o en esquivas playas desnudas de contrato humano'),\n",
       " Row(_c0='o adonde el sol jamás mostró su lumbre'),\n",
       " Row(_c0='de fieras que alimenta el Nislo llano:'),\n",
       " Row(_c0='Que puestos en los páramos desiertos los ecos roncos de mi mal inciertos suenen con tu rigor tan sin segundo'),\n",
       " Row(_c0='Mata un desdén'),\n",
       " Row(_c0='Desconcierta la vida larga ausencia; contra un temor de olvido no aprovecha firme esperanza de dichosa suerte.'),\n",
       " Row(_c0='En todo hay cierta'),\n",
       " Row(_c0='de las sospechas que me tienen muerto: y en el olvido en quien mi fuego avivo.'),\n",
       " Row(_c0='Y entre tantos tormentos'),\n",
       " Row(_c0='antes por extremarme en mi querella'),\n",
       " Row(_c0='de cerrar estos ojos'),\n",
       " Row(_c0='por mil heridas en el alma abiertas? ¿Quién no abrirá de par en par las puertas a la desconfianza'),\n",
       " Row(_c0='¡Oh en el reino de amor fieros tiranos celos! ponedme un hierro en estas manos. Dam'),\n",
       " Row(_c0='¡Mas ay de mí! que con cruel victoria vuestra memoria el sufrimiento ahoga.'),\n",
       " Row(_c0='Yo muero'),\n",
       " Row(_c0='Diré que va acertado el que bien quiere y que es más libre el alma más rendida a la de amor antigua tiranía.'),\n",
       " Row(_c0='Diré que la enemiga siempre mía'),\n",
       " Row(_c0='y que en fe de los males que nos hace amor su imperio en justa paz mantiene.'),\n",
       " Row(_c0='Y con esta opinión y un duro lazo'),\n",
       " Row(_c0='a que me han conducido sus desdenes'),\n",
       " Row(_c0='Tú'),\n",
       " Row(_c0='a la cansada vida que aborrezco;'),\n",
       " Row(_c0='pues ya ves que te da notorias muestras esta del corazón profunda llaga'),\n",
       " Row(_c0='de cómo alegre a tu rigor me ofrezco;'),\n",
       " Row(_c0='Si por dicha conoces que merezco que el cielo claro de tus bellos ojos en mi muerte se turbe'),\n",
       " Row(_c0='Antes con risa en la ocasión funesta descubre que el fin mío fue tu fiesta. Mas gran simpleza es avisarte desto'),\n",
       " Row(_c0='en que mi vida llegue al fin tan presto.'),\n",
       " Row(_c0='Venga'),\n",
       " Row(_c0='con el peso terrible de su canto.'),\n",
       " Row(_c0='Ticio traiga un buitre'),\n",
       " Row(_c0='Y todos juntos su mortal quebranto traslaen en mi pecho'),\n",
       " Row(_c0='(si y a un desesperado son debidas)'),\n",
       " Row(_c0='canten obsequias tristes'),\n",
       " Row(_c0='al cuerpo a quien se niegue aun la mortaja.'),\n",
       " Row(_c0='Y el portero infernal de los tres rostros'),\n",
       " Row(_c0='que otra pompa mejor no me parece que la merece un amador difunto.'),\n",
       " Row(_c0='Canción desesperada'),\n",
       " Row(_c0='Bien les pareció a los que escuchado habían la canción de Grisóstomo'),\n",
       " Row(_c0='escondidos pensamientos de su amigo; para que'),\n",
       " Row(_c0='No vengo'),\n",
       " Row(_c0='de perder la que es amada por hermosa'),\n",
       " Row(_c0='Y en diciendo esto'),\n",
       " Row(_c0='Y algunos dieron muestras (de aquellos que de la poderosa flecha de los rayos de sus bellos ojos estaban heridos) de quererla seguir'),\n",
       " Row(_c0='Ambrosio les dijo que concluyesen con lo que a su buen amigo debían'),\n",
       " Row(_c0='Yace aquí de un amador'),\n",
       " Row(_c0='el mísero cuerpo helado'),\n",
       " Row(_c0='que fue pastor de ganado'),\n",
       " Row(_c0='Murió a manos del rigor'),\n",
       " Row(_c0='de una esquiva hermosa ingrata'),\n",
       " Row(_c0='la tiranía de amor.'),\n",
       " Row(_c0='Luego esparcieron por encima de la sepultura muchas flores y ramos'),\n",
       " Row(_c0='Capítulo 15: Donde se cuenta la desgraciada aventura que se topó Don Quijote en topar con unos desalmados yangüeses'),\n",
       " Row(_c0='Cuanta el sabio Cide Hamete Benengeli'),\n",
       " Row(_c0='Sucedió'),\n",
       " Row(_c0='Viendo'),\n",
       " Row(_c0='pasasen dos días'),\n",
       " Row(_c0='Lo cual oído por su amo'),\n",
       " Row(_c0='Quijote'),\n",
       " Row(_c0='Capítulo 16: De lo que le sucedió al ingenioso hidalgo en la venta que él imaginaba ser castillo.'),\n",
       " Row(_c0='El ventero que vió a Don Quijote atravesado en el asno'),\n",
       " Row(_c0='No fueron golpes'),\n",
       " Row(_c0='¿Cómo se llama este caballero? preguntó la asturiana Maritornes. Don Quijote de la Mancha'),\n",
       " Row(_c0='Todas estas pláticas estaba escuchando muy atento Don Quijote'),\n",
       " Row(_c0='Confusas estaban la ventera y su hija'),\n",
       " Row(_c0='Fuera de que Cide Hamete Benengeli fue historiador muy curioso y puntual en todas cosas'),\n",
       " Row(_c0='Toda la venta estaba en silencio'),\n",
       " Row(_c0='teniendo toda esta quimera'),\n",
       " Row(_c0='Pensando'),\n",
       " Row(_c0='Maritornes estaba congojadísima y trasudando de verse tan asida de Don Quijote'),\n",
       " Row(_c0='ovillo. El ventero entró diciendo: ¿Adónde estas puta? A buen seguro que son tus cosas éstas. En esto despertó Sancho'),\n",
       " Row(_c0='Viendo'),\n",
       " Row(_c0='Alojaba acaso aquella noche en la venta un cuadrillero de los que llaman de la Santa Hermandad vieja de Toledo'),\n",
       " Row(_c0='Esta voz sobresaltó a todos'),\n",
       " Row(_c0='Capítulo 17: Donde se prosiguen los innumerables trabajos que el bravo Don Quijote y su buen escudero Sancho Panza pasaron en la venta'),\n",
       " Row(_c0='Había ya vuelto en este tiempo de su parasismo Don Quijote'),\n",
       " Row(_c0='Dígolo'),\n",
       " Row(_c0='Ni para mí tampoco'),\n",
       " Row(_c0='Acabó en esto de encender el candil el cuadrillero'),\n",
       " Row(_c0='encantados no se dejan ver de nadie. Si no se dejan ver'),\n",
       " Row(_c0='Llegó el cuadrillero'),\n",
       " Row(_c0='El cuadrillero que se vio tratar tan mal de un hombre de tan mal parecer'),\n",
       " Row(_c0='Levantóse Sancho con harto dolor de sus huesos'),\n",
       " Row(_c0='Hecho esto'),\n",
       " Row(_c0='riñas'),\n",
       " Row(_c0='En esto hizo su operación el brevaje'),\n",
       " Row(_c0='Estábanle mirando todos cuanto había en la venta'),\n",
       " Row(_c0='El ventero le respondió con el mismo sosiego: Señor caballero'),\n",
       " Row(_c0='invierno y en verano'),\n",
       " Row(_c0='Poco tengo yo que ver con eso'),\n",
       " Row(_c0='Quiso la mala suerte del desdichado Sancho'),\n",
       " Row(_c0='Vióle bajar y subir por el aire con tanta gracia y presteza'),\n",
       " Row(_c0='A estas voces volvió Sancho los ojos como de través'),\n",
       " Row(_c0='buena voluntad'),\n",
       " Row(_c0='Capítulo 18: Donde se cuentan las razones que pasó Sancho Panza con su señor Don Quijote con otras aventuras dignas de ser contadas.'),\n",
       " Row(_c0='Llegó Sancho a su amo marchito y desmayado'),\n",
       " Row(_c0='También me vengara yo si pudiera'),\n",
       " Row(_c0='¡Qué poco sabes'),\n",
       " Row(_c0='Esa es la pena que yo tengo'),\n",
       " Row(_c0='que cuando eso fuese'),\n",
       " Row(_c0='En estos coloquios iban Don Quijote y su escudero'),\n",
       " Row(_c0='Pues ¿por qué se quieren tan mal estos dos señores? preguntó Sancho. Quiérense mal'),\n",
       " Row(_c0='Hiciéronlo así y pusiéronse sobre una loma'),\n",
       " Row(_c0='de los miembros gigantes que está a su derecha mano'),\n",
       " Row(_c0='Y desta manera fué nombrando muchos caballeros del uno y del otro escuadrón que él se imaginaba'),\n",
       " Row(_c0='¡Válame Dios'),\n",
       " Row(_c0='¿Cómo dices eso? respondió Don Quijote'),\n",
       " Row(_c0='lanza en el ristre bajó de la costezuela como un rayo. Diole voces Sancho'),\n",
       " Row(_c0='Esto diciendo'),\n",
       " Row(_c0='Llegó en ésto una peladilla de arroyo'),\n",
       " Row(_c0='Tal fue el golpe primero'),\n",
       " Row(_c0='Como éso puede desaparecer y contrahacer aquel ladrón del sabio mi enemigo'),\n",
       " Row(_c0='Llegóse Sancho tan cerca'),\n",
       " Row(_c0='dijo Sancho. ¿Y qué es ésto que me ha sucedido? Sin duda este pecador está herido de muerte'),\n",
       " Row(_c0='Levántose en esto Don Quijote'),\n",
       " Row(_c0='Con todo eso'),\n",
       " Row(_c0='Pídeselo tú a Dios'),\n",
       " Row(_c0='esta parte de abajo'),\n",
       " Row(_c0='¡Sin ventura yo! dijo Don Quijote'),\n",
       " Row(_c0='Capítulo 19: De las discretas razones que Sancho pasaba con su amo'),\n",
       " Row(_c0='Paréceme'),\n",
       " Row(_c0='En éstas y otras pláticas les tomó la noche en mitad del camino'),\n",
       " Row(_c0='Pasmóse Sancho en viéndolas'),\n",
       " Row(_c0='temerosa visión de todo punto remató el ánimo de Sancho Panza'),\n",
       " Row(_c0='Esta extraña visión a tales horas y en despoblado bien bastaba para poner miedo en el corazón de Sancho'),\n",
       " Row(_c0='Era la mula asombradiza'),\n",
       " Row(_c0='Todo lo miraba Sancho admirado del ardimiento de su señor'),\n",
       " Row(_c0='licenciado'),\n",
       " Row(_c0='¿Y quién le mató? preguntó Don Quijote. Dios'),\n",
       " Row(_c0='Hizo Sancho costal de su gabán y recogiendo además todo lo que pudo y cupo en el talego de la acémila'),\n",
       " Row(_c0='No es eso'),\n",
       " Row(_c0='desde hoy en adelante'),\n",
       " Row(_c0='Olvidábaseme de decir'),\n",
       " Row(_c0='En oyendo ésto el bachiller se fue'),\n",
       " Row(_c0='Capítulo 20: De la jamás vista ni oída aventura que con más poco peligro fue acabada de famoso caballero en el mundo'),\n",
       " Row(_c0='No es posible'),\n",
       " Row(_c0='Era la noche'),\n",
       " Row(_c0='Cuando Sancho oyó las palabras de su amo'),\n",
       " Row(_c0='¿Cómo puedes tú'),\n",
       " Row(_c0='Viendo'),\n",
       " Row(_c0='cuando llegue el día a punto de acometer esta tan desemejable aventura que le espera.'),\n",
       " Row(_c0='¿A qué llamas apear'),\n",
       " Row(_c0='Erase que se era'),\n",
       " Row(_c0='Digo'),\n",
       " Row(_c0='Así que'),\n",
       " Row(_c0='Sucedió'),\n",
       " Row(_c0='pie y descalza desde lejos con un bordón en la mano y con unas alforjas al cuello'),\n",
       " Row(_c0='Haz cuenta que las pasó todas'),\n",
       " Row(_c0='Dígote de verdad'),\n",
       " Row(_c0='Tornóle a mover las piernas'),\n",
       " Row(_c0='vino a hacer un poco de ruido'),\n",
       " Row(_c0='Tornó otra vez a probar ventura'),\n",
       " Row(_c0='Bien podrá ser'),\n",
       " Row(_c0='En estos coloquios y otros semejantes pasaron la noche amo y mozo; mas viendo Sancho que a más andar se venía la mañana'),\n",
       " Row(_c0='Como Rocinante se vió libre'),\n",
       " Row(_c0='Tornóle a referir el recado y embajada que había de llevar de su parte a su señora Dulcinea'),\n",
       " Row(_c0='De nuevo tornó a llorar Sancho'),\n",
       " Row(_c0='Destas lágrimas y determinación tan honrada de Sancho Panza saca el autor desta historia que debía de ser bien nacido'),\n",
       " Row(_c0='Seguíale Sancho a pie'),\n",
       " Row(_c0='Al pie de las peñas estaban unas casas mal hechas'),\n",
       " Row(_c0='Alborotóse Rocinante con el estruendo del agua y de los golpes'),\n",
       " Row(_c0='Otros cien pasos serían los que anduvieron'),\n",
       " Row(_c0='Cuando Don Quijote vió lo que era'),\n",
       " Row(_c0='Miró también Don Quijote a Sancho'),\n",
       " Row(_c0='Viendo'),\n",
       " Row(_c0='Viendo Sancho que sacaba tan malas veras de sus burlas'),\n",
       " Row(_c0='echádmelos a las barbas uno a uno'),\n",
       " Row(_c0='No haya más'),\n",
       " Row(_c0='No niego yo'),\n",
       " Row(_c0='A lo menos'),\n",
       " Row(_c0='Tal podría correr el dado'),\n",
       " Row(_c0='No creo yo'),\n",
       " Row(_c0='donaire de las cosas de vuestra merced'),\n",
       " Row(_c0='Desa manera'),\n",
       " Row(_c0='Capítulo 21: Que trata de la alta aventura y rica ganancia del yelmo de Mambrino'),\n",
       " Row(_c0='En esto'),\n",
       " Row(_c0='De allí a poco'),\n",
       " Row(_c0='–Paréceme'),\n",
       " Row(_c0='–Mire vuestra merced bien lo que dice'),\n",
       " Row(_c0='–¡Válate el diablo por hombre! –replicó don Quijote–. ¿Qué va de yelmo a batanes?'),\n",
       " Row(_c0='–No sé nada –respondió Sancho–; mas'),\n",
       " Row(_c0='–¿Cómo me puedo engañar en lo que digo'),\n",
       " Row(_c0='–Lo que yo veo y columbro –respondió Sancho– no es sino un hombre sobre un asno pardo'),\n",
       " Row(_c0='–Pues ése es el yelmo de Mambrino –dijo don Quijote–. Apártate a una parte y déjame con él a solas: verás cuán sin hablar palabra'),\n",
       " Row(_c0='–Yo me tengo en cuidado el apartarme –replicó Sancho–'),\n",
       " Row(_c0='–Ya os he dicho'),\n",
       " Row(_c0='Calló Sancho'),\n",
       " Row(_c0='Es'),\n",
       " Row(_c0='–¡Defiéndete'),\n",
       " Row(_c0='El barbero'),\n",
       " Row(_c0='–Por Dios'),\n",
       " Row(_c0='Y'),\n",
       " Row(_c0='–Sin duda que el pagano'),\n",
       " Row(_c0='Cuando Sancho oyó llamar a la bacía celada'),\n",
       " Row(_c0='–¿De qué te ríes'),\n",
       " Row(_c0='–Ríome –respondió él– de considerar la gran cabeza que tenía el pagano dueño deste almete'),\n",
       " Row(_c0='–¿Sabes qué imagino'),\n",
       " Row(_c0='conozco no hace al caso su trasmutación; que yo la aderezaré en el primer lugar donde haya herrero'),\n",
       " Row(_c0='–Eso será –dijo Sancho– si no se tira con honda'),\n",
       " Row(_c0='–No me da mucha pena el haberle perdido'),\n",
       " Row(_c0='–También la tengo yo –respondió Sancho–'),\n",
       " Row(_c0='–Mal cristiano eres'),\n",
       " Row(_c0='Y aquí dio un sospiro'),\n",
       " Row(_c0='–[Pase] por burlas'),\n",
       " Row(_c0='–Nunca yo acostumbro –dijo don Quijote– despojar a los que venzo'),\n",
       " Row(_c0='–Dios sabe si quisiera llevarle –replicó Sancho–'),\n",
       " Row(_c0='–En eso no estoy muy cierto –respondió don Quijote–; y'),\n",
       " Row(_c0='–Tan estrema es –respondió Sancho– que si fueran para mi misma persona'),\n",
       " Row(_c0='Y luego'),\n",
       " Row(_c0='Hecho esto'),\n",
       " Row(_c0='Cortada'),\n",
       " Row(_c0='Yendo'),\n",
       " Row(_c0='–Señor'),\n",
       " Row(_c0='–Dila –dijo don Quijote–'),\n",
       " Row(_c0='–Digo'),\n",
       " Row(_c0='–No dices mal'),\n",
       " Row(_c0='caballeros'),\n",
       " Row(_c0='Muérese el padre'),\n",
       " Row(_c0='–Eso pido'),\n",
       " Row(_c0='–No lo dudes'),\n",
       " Row(_c0='–Ahí entra bien también –dijo Sancho– lo que algunos desalmados dicen: \"No pidas de grado lo que puedes tomar por fuerza\"; aunque mejor cuadra decir: \"Más vale salto de mata que ruego de hombres buenos\". Dígolo porque si el señor rey'),\n",
       " Row(_c0='–Eso no hay quien la quite –dijo don Quijote.'),\n",
       " Row(_c0='–Pues'),\n",
       " Row(_c0='–Hágalo Dios –respondió don Quijote– como yo deseo y tú'),\n",
       " Row(_c0='–Sea par Dios –dijo Sancho–'),\n",
       " Row(_c0='–Y aun te sobra –dijo don Quijote–; y cuando no lo fueras'),\n",
       " Row(_c0='–Y ¡montas que no sabría yo autorizar el litado! –dijo Sancho.'),\n",
       " Row(_c0='–Dictado has de decir'),\n",
       " Row(_c0='–Sea ansí –respondió Sancho Panza–. Digo que le sabría bien acomodar'),\n",
       " Row(_c0='–Bien parecerás –dijo don Quijote–'),\n",
       " Row(_c0='–¿Qué hay más –dijo Sancho–'),\n",
       " Row(_c0='–Pues'),\n",
       " Row(_c0='–Yo se lo diré –respondió Sancho–: los años pasados estuve un mes en la corte'),\n",
       " Row(_c0='–Digo que tienes razón –dijo don Quijote–'),\n",
       " Row(_c0='–Quédese eso del barbero a mi cargo –dijo Sancho–'),\n",
       " Row(_c0='–Así será –respondió don Quijote.'),\n",
       " Row(_c0='Y'),\n",
       " Row(_c0='Capítulo 22: De la libertad que dio don Quijote a muchos desdichados que'),\n",
       " Row(_c0='Cuenta Cide Hamete Benengeli'),\n",
       " Row(_c0='–Ésta es cadena de galeotes'),\n",
       " Row(_c0='–¿Cómo gente forzada? –preguntó don Quijote–. ¿Es posible que el rey haga fuerza a ninguna gente?'),\n",
       " Row(_c0='–No digo eso –respondió Sancho–'),\n",
       " Row(_c0='–En resolución –replicó don Quijote–'),\n",
       " Row(_c0='–Así es –dijo Sancho.'),\n",
       " Row(_c0='–Pues desa manera –dijo su amo–'),\n",
       " Row(_c0='–Advierta vuestra merced –dijo Sancho– que la justicia'),\n",
       " Row(_c0='Llegó'),\n",
       " Row(_c0='Una de las guardas de a caballo respondió que eran galeotes'),\n",
       " Row(_c0='–Con todo eso –replicó don Quijote–'),\n",
       " Row(_c0='Añadió a éstas otras tales y tan comedidas razones'),\n",
       " Row(_c0='–Aunque llevamos aquí el registro y la fe de las sentencias de cada uno destos malaventurados'),\n",
       " Row(_c0='Con esta licencia'),\n",
       " Row(_c0='–¿Por eso no más? –replicó don Quijote–. Pues'),\n",
       " Row(_c0='–No son los amores como los que vuestra merced piensa –dijo el galeote–; que los míos fueron que quise tanto a una canasta de colar'),\n",
       " Row(_c0='–¿Qué son gurapas? –preguntó don Quijote. –Gurapas son galeras –respondió el galeote.'),\n",
       " Row(_c0='El cual era un mozo de hasta edad de veinte y cuatro años'),\n",
       " Row(_c0='–Éste'),\n",
       " Row(_c0='–Sí'),\n",
       " Row(_c0='Mas una de las guardas le dijo:'),\n",
       " Row(_c0='–Señor caballero'),\n",
       " Row(_c0='–Y yo lo entiendo así –respondió don Quijote.'),\n",
       " Row(_c0='El cual'),\n",
       " Row(_c0='–Yo voy por cinco años a las señoras gurapas por faltarme diez ducados.'),\n",
       " Row(_c0='–Yo daré veinte de muy buena gana –dijo don Quijote– por libraros desa pesadumbre.'),\n",
       " Row(_c0='–Eso me parece –respondió el galeote– como quien tiene dineros en mitad del golfo y se está muriendo de hambre'),\n",
       " Row(_c0='Pasó don Quijote al cuarto'),\n",
       " Row(_c0='–Este hombre honrado va por cuatro años a galeras'),\n",
       " Row(_c0='–Eso es –dijo Sancho Panza–'),\n",
       " Row(_c0='–Así es –replicó el galeote–; y la culpa por que le dieron esta pena es por haber sido corredor de oreja'),\n",
       " Row(_c0='–A no haberle añadido esas puntas y collar –dijo don Quijote–'),\n",
       " Row(_c0='–Así es –dijo el buen viejo–'),\n",
       " Row(_c0='en ello: que toda mi intención era que todo el mundo se holgase y viviese en paz y quietud'),\n",
       " Row(_c0='Y aquí tornó a su llanto'),\n",
       " Row(_c0='Pasó adelante don Quijote'),\n",
       " Row(_c0='–Yo voy aquí porque me burlé demasiadamente con dos primas hermanas mías'),\n",
       " Row(_c0='Éste iba en hábito de estudiante'),\n",
       " Row(_c0='Tras todos éstos'),\n",
       " Row(_c0='–¿Qué delitos puede tener –dijo don Quijote–'),\n",
       " Row(_c0='–Va por diez años –replicó la guarda–'),\n",
       " Row(_c0='–Señor comisario –dijo entonces el galeote–'),\n",
       " Row(_c0='–Hable con menos tono –replicó el comisario–'),\n",
       " Row(_c0='–Bien parece –respondió el galeote– que va el hombre como Dios es servido'),\n",
       " Row(_c0='–Pues'),\n",
       " Row(_c0='–Sí llaman –respondió Ginés–'),\n",
       " Row(_c0='–Dice verdad –dijo el comisario–: que él mesmo ha escrito su historia'),\n",
       " Row(_c0='–Y le pienso quitar –dijo Ginés–'),\n",
       " Row(_c0='–¿Tan bueno es? –dijo don Quijote.'),\n",
       " Row(_c0='–Es tan bueno –respondió Ginés– que mal año para Lazarillo de Tormes y para todos cuantos de aquel género se han escrito o escribieren. Lo que le sé decir a voacé es que trata verdades'),\n",
       " Row(_c0='–¿Y cómo se intitula el libro? –preguntó don Quijote. –La vida de Ginés de Pasamonte –respondió el mismo. –¿Y está acabado? –preguntó don Quijote.'),\n",
       " Row(_c0='–¿Cómo puede estar acabado –respondió él–'),\n",
       " Row(_c0='–Luego'),\n",
       " Row(_c0='–Para servir a Dios y al rey'),\n",
       " Row(_c0='–Hábil pareces –dijo don Quijote.'),\n",
       " Row(_c0='–Y desdichado –respondió Ginés–; porque siempre las desdichas persiguen al buen ingenio.'),\n",
       " Row(_c0='–Persiguen a los bellacos –dijo el comisario.'),\n",
       " Row(_c0='–Ya le he dicho'),\n",
       " Row(_c0='Alzó la vara en alto el comisario para dar a Pasamonte en respuesta de sus amenazas'),\n",
       " Row(_c0='no era mucho que quien llevaba tan atadas las manos tuviese algún tanto suelta la lengua. Y'),\n",
       " Row(_c0='–De todo cuanto me habéis dicho'),\n",
       " Row(_c0='–¡Donosa majadería! –respondió el comisario– ¡Bueno está el donaire con que ha salido a cabo de rato! ¡Los forzados del rey quiere que le dejemos'),\n",
       " Row(_c0='–¡Vos sois el gato'),\n",
       " Row(_c0='Y'),\n",
       " Row(_c0='Ayudó Sancho'),\n",
       " Row(_c0='Entristecióse mucho Sancho deste suceso'),\n",
       " Row(_c0='herida'),\n",
       " Row(_c0='–Bien está eso –dijo don Quijote–'),\n",
       " Row(_c0='Y'),\n",
       " Row(_c0='–De gente bien nacida es agradecer los beneficios que reciben'),\n",
       " Row(_c0='Respondió por todos Ginés de Pasamonte'),\n",
       " Row(_c0='–Lo que vuestra merced nos manda'),\n",
       " Row(_c0='–Pues ¡voto a tal! –dijo don Quijote'),\n",
       " Row(_c0='Pasamonte'),\n",
       " Row(_c0='Solos quedaron jumento y Rocinante'),\n",
       " Row(_c0='Capítulo 23: De lo que le aconteció al famoso don Quijote en Sierra Morena'),\n",
       " Row(_c0='Viéndose tan malparado don Quijote'),\n",
       " Row(_c0='–Siempre'),\n",
       " Row(_c0='–Así escarmentará vuestra merced –respondió Sancho– como yo soy turco; pero'),\n",
       " Row(_c0='–Naturalmente eres cobarde'),\n",
       " Row(_c0='–Señor –respondió Sancho–'),\n",
       " Row(_c0='Subió don Quijote'),\n",
       " Row(_c0='esconderse algunos días por aquellas asperezas'),\n",
       " Row(_c0='Así como don Quijote entró por aquellas montañas'),\n",
       " Row(_c0='En esto'),\n",
       " Row(_c0='Hízolo con mucha presteza Sancho'),\n",
       " Row(_c0='–¡Bendito sea todo el cielo'),\n",
       " Row(_c0='Y buscando más'),\n",
       " Row(_c0='–Paréceme'),\n",
       " Row(_c0='–No puede ser eso –respondió Sancho–'),\n",
       " Row(_c0='–Verdad dices –dijo don Quijote–'),\n",
       " Row(_c0='Abrióle'),\n",
       " Row(_c0='O le falta al Amor conocimiento'),\n",
       " Row(_c0='o le sobra crueldad'),\n",
       " Row(_c0='igual a la ocasión que me condena'),\n",
       " Row(_c0='al género más duro de tormento.'),\n",
       " Row(_c0='Pero si Amor es dios'),\n",
       " Row(_c0='que nada ignora'),\n",
       " Row(_c0='que un dios no sea cruel. Pues'),\n",
       " Row(_c0='Si digo que sois vos'),\n",
       " Row(_c0='que tanto mal en tanto bien no cabe'),\n",
       " Row(_c0='ni me viene del cielo esta rüina.'),\n",
       " Row(_c0='Presto habré de morir'),\n",
       " Row(_c0='–Por esa trova –dijo Sancho– no se puede saber nada'),\n",
       " Row(_c0='–¿Qué hilo está aquí? –dijo don Quijote.'),\n",
       " Row(_c0='–Paréceme –dijo Sancho– que vuestra merced nombró ahí hilo.'),\n",
       " Row(_c0='–No dije sino Fili –respondió don Quijote–'),\n",
       " Row(_c0='–Luego'),\n",
       " Row(_c0='–Y más de lo que tú piensas –respondió don Quijote–'),\n",
       " Row(_c0='–Lea más vuestra merced –dijo Sancho–'),\n",
       " Row(_c0='–Esto es prosa'),\n",
       " Row(_c0='–¿Carta misiva'),\n",
       " Row(_c0='–En el principio no parece sino de amores –respondió don Quijote.'),\n",
       " Row(_c0='–Pues lea vuestra merced alto –dijo Sancho–'),\n",
       " Row(_c0='–Que me place –dijo don Quijote.'),\n",
       " Row(_c0='Y'),\n",
       " Row(_c0='Tu falsa promesa y mi cierta desventura me llevan a parte donde antes volverán a tus oídos las nuevas de mi muerte que las razones de mis quejas. Desechásteme'),\n",
       " Row(_c0='Acabando de leer la carta'),\n",
       " Row(_c0='–Menos por ésta que por los versos se puede sacar más de que quien la escribió es algún desdeñado amante.'),\n",
       " Row(_c0='Y'),\n",
       " Row(_c0='En tanto que don Quijote pasaba el libro'),\n",
       " Row(_c0='Con gran deseo quedó el Caballero de la Triste Figura de saber quién fuese el dueño de la maleta'),\n",
       " Row(_c0='Yendo'),\n",
       " Row(_c0='asperezas'),\n",
       " Row(_c0='–No podré hacer eso –respondió Sancho–'),\n",
       " Row(_c0='–Así será –dijo el de la Triste Figura–'),\n",
       " Row(_c0='A lo que Sancho respondió:'),\n",
       " Row(_c0='–Harto mejor sería no buscalle'),\n",
       " Row(_c0='–Engáñaste en eso'),\n",
       " Row(_c0='Y así'),\n",
       " Row(_c0='Estándola mirando'),\n",
       " Row(_c0='–Apostaré que está mirando la mula de alquiler que está muerta en esa hondonada. Pues a buena fe que ha ya seis meses que está en ese lugar. Díganme: ¿han topado por ahí a su dueño?'),\n",
       " Row(_c0='–No hemos topado a nadie –respondió don Quijote–'),\n",
       " Row(_c0='–También la hallé yo –respondió el cabrero–'),\n",
       " Row(_c0='diablo sotil'),\n",
       " Row(_c0='–Eso mesmo es lo que yo digo –respondió Sancho–: que también la hallé yo'),\n",
       " Row(_c0='–Decidme'),\n",
       " Row(_c0='–Lo que sabré yo decir –dijo el cabrero– es que «habrá al pie de seis meses'),\n",
       " Row(_c0='junto a sí'),\n",
       " Row(_c0='El cual quedó admirado de lo que al cabrero había oído'),\n",
       " Row(_c0='En llegando el mancebo a ellos'),\n",
       " Row(_c0='Capítulo 24: Donde se prosigue la aventura de la Sierra Morena'),\n",
       " Row(_c0='Dice la historia que era grandísima la atención con que don Quijote escuchaba al astroso caballero de la Sierra'),\n",
       " Row(_c0='-Por cierto'),\n",
       " Row(_c0='-Los que yo tengo -respondió don Quijote- son de serviros; tanto'),\n",
       " Row(_c0='El Caballero del Bosque'),\n",
       " Row(_c0='-Si tienen algo que darme de comer'),\n",
       " Row(_c0='Luego sacaron'),\n",
       " Row(_c0='esto sin que ninguno hablase'),\n",
       " Row(_c0='-Si gustáis'),\n",
       " Row(_c0='Estas razones del Roto trujeron a la memoria a don Quijote el cuento que le había contado su escudero'),\n",
       " Row(_c0='-Esta prevención que hago es porque querría pasar brevemente por el cuento de mis desgracias; que el traerlas a la memoria no me sirve de otra cosa que añadir otras de nuevo'),\n",
       " Row(_c0='Don Quijote se lo prometió en nombre de los demás'),\n",
       " Row(_c0='-Mi nombre es Cardenio: mi patria'),\n",
       " Row(_c0='dijo: «Por esta carta verás'),\n",
       " Row(_c0='ahíncos; y si primero fingía quererse ausentar'),\n",
       " Row(_c0='No hubo bien oído don Quijote nombrar libro de caballerías'),\n",
       " Row(_c0='-Con que me dijera vuestra merced al principio de su historia que su merced de la señora Luscinda era aficionada a libros de caballerías'),\n",
       " Row(_c0='En tanto que don Quijote estaba diciendo lo que queda dicho'),\n",
       " Row(_c0='ni alzaba la cabeza'),\n",
       " Row(_c0='-No se me puede quitar del pensamiento'),\n",
       " Row(_c0='-Eso no'),\n",
       " Row(_c0='Estabale mirando Cardenio muy atentamente'),\n",
       " Row(_c0='Levantóse Sancho'),\n",
       " Row(_c0='-Déjeme vuestra merced'),\n",
       " Row(_c0='-Así es -dijo don Quijote-; pero yo sé que él no tiene ninguna culpa de lo sucedido.'),\n",
       " Row(_c0='Con esto los apaciguó'),\n",
       " Row(_c0='Capítulo 25: Que trata de las extra Ras cosas que en Sierra Morena sucedieron al valiente caballero de la Mancha'),\n",
       " Row(_c0='Despidióse del cabrero don Quijote y'),\n",
       " Row(_c0='-Señor don Quijote'),\n",
       " Row(_c0='-Ya te entiendo'),\n",
       " Row(_c0='-Sea ansí -dijo Sancho-; hable yo ahora'),\n",
       " Row(_c0='-A fe'),\n",
       " Row(_c0='-Eso digo yo -dijo Sancho-: que no había para qué hacer cuenta de las palabras de un loco; porque si la buena suerte no ayudara a vuestra merced'),\n",
       " Row(_c0='-Contra cuerdos y contra locos está obligado cualquier caballero andante a volver por la honra de las mujeres'),\n",
       " Row(_c0='-Ni yo lo digo ni lo pienso –respondió Sancho-; allá se lo hayan; con su pan se lo coman; si fueron amancebados'),\n",
       " Row(_c0='-¡Válame Dios -dijo don Quijote-'),\n",
       " Row(_c0='Señor respondió Sancho-'),\n",
       " Row(_c0='-Calla'),\n",
       " Row(_c0='-Y ¿es de muy gran peligro esa hazaña? -preguntó Sancho Panza.'),\n",
       " Row(_c0='-No -respondió el de la Triste Figura-; puesto que de tal manera podía correr el dado'),\n",
       " Row(_c0='-¿En mi diligencia? -dijo Sancho.'),\n",
       " Row(_c0='-Sí -dijo don Quijote-; porque si vuelves presto de adonde pienso enviarte'),\n",
       " Row(_c0='caballeros andantes. No he dicho bien fue uno: fue el solo'),\n",
       " Row(_c0='-En efecto -dijo Sancho-'),\n",
       " Row(_c0='-¿Ya no te he dicho -respondió don Quijote- que quiero imitar a Amadís'),\n",
       " Row(_c0='-Paréceme a mi -dijo Sancho- que los caballeros que lo tal ficieron fueron provocados y tuvieron causa para hacer esas necedades y penitencias; pero vuestra merced'),\n",
       " Row(_c0='-Ahí está el punto -respondió don Quijote-'),\n",
       " Row(_c0='vuelvas con la respuesta de una carta que contigo pienso enviar a mi señora Dulcinea: y si fuere tal cual a mi fe se le debe'),\n",
       " Row(_c0='A lo cual respondió Sancho:'),\n",
       " Row(_c0='-Vive Dios'),\n",
       " Row(_c0='-Mira'),\n",
       " Row(_c0='Llegaron en estas pláticas al pie de una alta montaña'),\n",
       " Row(_c0='-Este es el lugar'),\n",
       " Row(_c0='celos han traído a lamentarse entre estas asperezas'),\n",
       " Row(_c0='Y diciendo esto'),\n",
       " Row(_c0='-Libertad te da el que sin ella queda'),\n",
       " Row(_c0='Viendo esto Sancho'),\n",
       " Row(_c0='-Bien haya quien nos quitó ahora del trabajo de desenalbardar al rucio'),\n",
       " Row(_c0='-Digo'),\n",
       " Row(_c0='-Pues ¿qué más tengo de ver -dijo Sancho- que lo que he visto?'),\n",
       " Row(_c0='-¡Bien estás en el cuento! -respondió don Quijote-. Ahora me falta rasgar las vestiduras'),\n",
       " Row(_c0='-Por amor de Dios -dijo Sancho-'),\n",
       " Row(_c0='-Yo agradezco tu buena intención'),\n",
       " Row(_c0='muy de veras; porque de otra manera'),\n",
       " Row(_c0='-Más fue perder el asno -respondió Sancho-'),\n",
       " Row(_c0='-¿Purgatorio le llamas'),\n",
       " Row(_c0='-Quien ha infierno -respondió Sancho- nula es retencio'),\n",
       " Row(_c0='-Retencio es -respondió Sancho- que quién está en el infierno nunca sale de él'),\n",
       " Row(_c0='-Así es verdad -dijo el de la Triste Figura-; pero ¿qué haremos para escribir la carta?'),\n",
       " Row(_c0='-¿Y la libranza pollinesca también? -añadió Sancho.'),\n",
       " Row(_c0='-Todo irá inserto -dijo don Quijote-; y seda bueno'),\n",
       " Row(_c0='-Pues ¿qué se ha de hacer de la firma? -dijo Sancho.'),\n",
       " Row(_c0='-Nunca las cartas de Amadís se firmaron -respondió don Quijote.'),\n",
       " Row(_c0='-Está bien -respondió Sancho-; pero la libranza forzosamente se ha de firmar'),\n",
       " Row(_c0='-La libranza irá en el mesmo librillo firmada; que en viéndola mi sobrina'),\n",
       " Row(_c0='-¡Ta'),\n",
       " Row(_c0='-Esa es -dijo don Quijote-'),\n",
       " Row(_c0='-Bien la conozco -dijo Sancho-'),\n",
       " Row(_c0='-Ya te tengo dicho antes de agora muchas veces'),\n",
       " Row(_c0='he escogido mal en fulano'),\n",
       " Row(_c0='-Digo que en todo tiene vuestra merced razón -respondió Sancho-'),\n",
       " Row(_c0='Sacó el libro de memoria don Quijote y'),\n",
       " Row(_c0='-Escríbala vuestra merced dos o tres veces ahí en el libro'),\n",
       " Row(_c0='-Escucha'),\n",
       " Row(_c0='CARTA DE DON QUIJOTE A DULCINEA DEL TOBOSO Soberana y alta señora:'),\n",
       " Row(_c0='El ferido de punta de ausencia y el llagado de las telas del corazón'),\n",
       " Row(_c0='Tuyo hasta la muerte'),\n",
       " Row(_c0='El Caballero de la Triste Figura'),\n",
       " Row(_c0='-Por vida de mi padre -dijo Sancho en oyendo la carta-'),\n",
       " Row(_c0='-Todo es menester -respondió don Quijote- para el oficio que trayo.'),\n",
       " Row(_c0='-Ea'),\n",
       " Row(_c0='-Que me place -dijo don Quijote.'),\n",
       " Row(_c0='Y habiéndola escrito'),\n",
       " Row(_c0='Mandará vuestra merced'),\n",
       " Row(_c0='-Buena está -dijo Sancho-: fírmela vuestra merced.'),\n",
       " Row(_c0='-No es menester firmaría -dijo don Quijote-'),\n",
       " Row(_c0='-Yo me confío de vuestra merced -respondió Sancho-. Déjeme'),\n",
       " Row(_c0='-Por lo menos'),\n",
       " Row(_c0='-Por amor de Dios'),\n",
       " Row(_c0='-A fe'),\n",
       " Row(_c0='-No estoy tan loco -respondió Sancho-; mas estoy más colérico. Pero'),\n",
       " Row(_c0='-No te dé pena ese cuidado –respondió don Quijote-'),\n",
       " Row(_c0='-Pero ¿sabe vuestra merced qué temo? Que no tengo de acertar a volver a este lugar donde agora le dejo'),\n",
       " Row(_c0='-Toma bien las señas; que yo procuraré no apartarme destos contornos -dijo don Quijote-'),\n",
       " Row(_c0='-Así lo haré -respondió Sancho Panza.'),\n",
       " Row(_c0='Y cortando algunos'),\n",
       " Row(_c0='-Digo'),\n",
       " Row(_c0='-¿No te lo decía yo? -dijo don Quijote-. Espérate'),\n",
       " Row(_c0='Y desnudándose con toda priesa los calzones'),\n",
       " Row(_c0='Capítulo 26: Donde se prosiguen las finezas que de enamorado hizo don Quijote en Sierra Morena'),\n",
       " Row(_c0='Y volviendo a contar lo que hizo el de la Triste Figura después que se vio solo'),\n",
       " Row(_c0='-Si Roldan fue tan buen caballero y tan valiente como todos dicen'),\n",
       " Row(_c0='En esto'),\n",
       " Row(_c0='millón de avemarías. Y lo que le fatigaba mucho era no hallar por allí otro ermitaño que le confesase y con quien consolarse; y así'),\n",
       " Row(_c0='Arboles'),\n",
       " Row(_c0='si de mi mal no os holgáis'),\n",
       " Row(_c0='del Toboso.'),\n",
       " Row(_c0='Es aquí el lugar adonde'),\n",
       " Row(_c0='el amador más leal'),\n",
       " Row(_c0='de su señora se esconde'),\n",
       " Row(_c0='y ha venido a tanto mal'),\n",
       " Row(_c0='sin saber cómo o por dónde. Tráele amor al estricote'),\n",
       " Row(_c0='que es de muy mala ralea;'),\n",
       " Row(_c0='y así'),\n",
       " Row(_c0='del Toboso.'),\n",
       " Row(_c0='Buscando las aventuras'),\n",
       " Row(_c0='por entre las duras peñas'),\n",
       " Row(_c0='no con su blanda correa;'),\n",
       " Row(_c0='y en tocándole el cogote'),\n",
       " Row(_c0='aquí lloró don Quijote'),\n",
       " Row(_c0='ausencias de Dulcinea'),\n",
       " Row(_c0='del Toboso.'),\n",
       " Row(_c0='No causó poca risa en los que hallaron los versos referidos el añadidura del Toboso al nombre de Dulcinea'),\n",
       " Row(_c0='Y será bien dejalle envuelto entre suspiros y versos'),\n",
       " Row(_c0='Esta necesidad le forzó a que llegase junto a la venta'),\n",
       " Row(_c0='-Dígame'),\n",
       " Row(_c0='-Si es -dijo el licenciado-; y aquél es el caballo de nuestro don Quijote.'),\n",
       " Row(_c0='Y conociéronle tan bien'),\n",
       " Row(_c0='-Amigo Sancho Panza'),\n",
       " Row(_c0='Conociólos luego Sancho Panza y determiné de encubrir el lugar y la suerte donde y como su amo quedaba; y así'),\n",
       " Row(_c0='-No'),\n",
       " Row(_c0='-No hay para qué conmigo amenazas'),\n",
       " Row(_c0='Y luego'),\n",
       " Row(_c0='Cuando Sancho vio que no hallaba el libro'),\n",
       " Row(_c0='-¿Qué me ha de suceder -respondió Sancho-'),\n",
       " Row(_c0='-¿Cómo es eso? -respondió el barbero.'),\n",
       " Row(_c0='-He perdido el libro de memoria -respondió Sancho- donde venía la carta para Dulcinea y una cédula firmada de mi señor'),\n",
       " Row(_c0='Y con esto'),\n",
       " Row(_c0='Con esto se consoló Sancho'),\n",
       " Row(_c0='-Decilda'),\n",
       " Row(_c0='Paróse Sancho Panza a rascar la cabeza para traer a la memoria la carta'),\n",
       " Row(_c0='-Por Dios'),\n",
       " Row(_c0='No diría -dijo el barbero- sobajada'),\n",
       " Row(_c0='-Así es -dijo Sancho-. Luego'),\n",
       " Row(_c0='No poco gustaron los dos de ver la buena memoria de Sancho Panza'),\n",
       " Row(_c0='Decía esto Sancho con tanto reposo'),\n",
       " Row(_c0='A lo cual respondió Sancho:'),\n",
       " Row(_c0='-Señores'),\n",
       " Row(_c0='-Suelenles dar -respondió el cura- algún beneficio'),\n",
       " Row(_c0='-Para eso será menester -replicó Sancho- que el escudero no sea casado'),\n",
       " Row(_c0='-No tengáis pena'),\n",
       " Row(_c0='-Así me ha parecido a mi -respondió Sancho-; aunque sé decir que para todo tiene habilidad. Lo que yo pienso hacer de mi parte es rogarle a nuestro Señor que te eche a aquellas partes donde él más se sirva y adonde a mí más mercedes me haga.'),\n",
       " Row(_c0='-Vos lo decís como discreto -dijo el cura-'),\n",
       " Row(_c0='Sancho dijo que entrasen ellos'),\n",
       " Row(_c0='Capítulo 27: De cómo salieron con su intención el cura y el barbero'),\n",
       " Row(_c0='No le pareció mal al barbero la invención del cura'),\n",
       " Row(_c0='Despidiéronse de todos'),\n",
       " Row(_c0='Mas'),\n",
       " Row(_c0='En esto llegó Sancho'),\n",
       " Row(_c0='Otro día llegaron al lugar donde Sancho había dejado puestas las señales de las ramas para acertar el lugar donde había dejado a su señor; y'),\n",
       " Row(_c0='Todo lo escuchó Sancho'),\n",
       " Row(_c0='Entróse Sancho por aquellas quebradas de la sierra'),\n",
       " Row(_c0='Estando'),\n",
       " Row(_c0='Y confirmó esta verdad haber sido los versos que oyeron éstos: ¿Quién menoscaba mis bienes?'),\n",
       " Row(_c0='Desdenes.'),\n",
       " Row(_c0='Y ¿quién aumenta mis duelos?'),\n",
       " Row(_c0='Los celos.'),\n",
       " Row(_c0='¿Y quién prueba mi paciencia? Ausencia.'),\n",
       " Row(_c0='De ese modo'),\n",
       " Row(_c0='ningún remedio se alcanza'),\n",
       " Row(_c0='Y ¿quién mi gloria repuna?'),\n",
       " Row(_c0='Fortuna.'),\n",
       " Row(_c0='Y ¿quién consiente en mi duelo?'),\n",
       " Row(_c0='El cielo.'),\n",
       " Row(_c0='De ese modo'),\n",
       " Row(_c0='morir deste mal extraño'),\n",
       " Row(_c0='pues se aumentan en mi daño'),\n",
       " Row(_c0='amor'),\n",
       " Row(_c0='¿Quién mejorará mi suerte?'),\n",
       " Row(_c0='La muerte.'),\n",
       " Row(_c0='Y el bien de amor'),\n",
       " Row(_c0='Y sus males'),\n",
       " Row(_c0='De ese modo'),\n",
       " Row(_c0='querer curar la pasión'),\n",
       " Row(_c0='cuando los remedios son'),\n",
       " Row(_c0='muerte'),\n",
       " Row(_c0='La hora'),\n",
       " Row(_c0='SONETO'),\n",
       " Row(_c0='Santa amistad'),\n",
       " Row(_c0='tu apariencia quedándose en el suelo'),\n",
       " Row(_c0='subiste alegre a las impíreas salas'),\n",
       " Row(_c0='desde allá'),\n",
       " Row(_c0='por quien a veces se trasluce el celo'),\n",
       " Row(_c0='de buenas obras que'),\n",
       " Row(_c0='con que destruye a la intención sincera; que si tus apariencias no le quitas'),\n",
       " Row(_c0='El canto se acabó con un profundo suspiro'),\n",
       " Row(_c0='El cura'),\n",
       " Row(_c0='-Bien veo yo'),\n",
       " Row(_c0='ella ando en hacer la vida que hago'),\n",
       " Row(_c0='Los dos'),\n",
       " Row(_c0='LUSCINDA A CARDENIO'),\n",
       " Row(_c0='Cada día descubro en vos valores que me obligan y fuerzan a que en más os estime; y así'),\n",
       " Row(_c0='Por este billete me moví a pedir a Luscinda por esposa'),\n",
       " Row(_c0='¡Oh Mario ambicioso'),\n",
       " Row(_c0='descubrió los secretos y contentos de su corazón? ¿Qué ofensa te hice? ¿Qué palabras te dije'),\n",
       " Row(_c0='Digo'),\n",
       " Row(_c0='Llegué al lugar donde era enviado; di las cartas al hermano de don Fernando; fui bien recebido'),\n",
       " Row(_c0='era suya. Abrila'),\n",
       " Row(_c0='En tanto que el agradecido y nuevo correo esto me decía'),\n",
       " Row(_c0='La palabra que don Fernando os dio de hablar a vuestro padre para que hablase al mío la ha cumplido más en su gusto que en vuestro provecho. Sabed'),\n",
       " Row(_c0='Estas'),\n",
       " Row(_c0='-Cardenio'),\n",
       " Row(_c0='Yo le respondí turbado y apriesa'),\n",
       " Row(_c0='-Hagan'),\n",
       " Row(_c0='No creo que pudo oír todas estas razones'),\n",
       " Row(_c0='¡Oh memoria'),\n",
       " Row(_c0='A esto le respondió el cura que'),\n",
       " Row(_c0='-Digo'),\n",
       " Row(_c0='pretendes? Considera que no puedes cristianamente llegar al fin de tus deseos'),\n",
       " Row(_c0='Estaba esperando el cura la respuesta de Luscinda'),\n",
       " Row(_c0='Yo'),\n",
       " Row(_c0='Dile títulos de cruel'),\n",
       " Row(_c0='pudieran ellos mesmos acertar a desear'),\n",
       " Row(_c0='Con estas voces y con esta inquietud caminé lo que quedaba de aquella noche'),\n",
       " Row(_c0='Los vaqueros y cabreros que andan por estas montañas'),\n",
       " Row(_c0='Esta es'),\n",
       " Row(_c0='Aquí dio fin Cardenio a su larga plática y tan desdichada como amorosa historia; y al tiempo que el cura se prevenía para decirle algunas razones de consuelo'),\n",
       " Row(_c0='Capítulo 28: Que trata de la nueva y agradable aventura que al cura y barbero sucedió en la mesma sierra'),\n",
       " Row(_c0='Felicísimos y venturosos fueron los tiempos donde se echó al mundo el audacísimo caballero don Quijote de la Mancha'),\n",
       " Row(_c0='-¡Ay'),\n",
       " Row(_c0='Todas estas razones oyeron y percibieron el cura y los que con él estaban'),\n",
       " Row(_c0='-Esta'),\n",
       " Row(_c0='El mozo se quitó la montera y'),\n",
       " Row(_c0='envidia. Con esto conocieron que el que parecía labrador era mujer'),\n",
       " Row(_c0='-Deteneos'),\n",
       " Row(_c0='A todo esto ella no respondía palabra'),\n",
       " Row(_c0='-Lo que vuestro traje'),\n",
       " Row(_c0='En tanto que el cura decía estas razones estaba la disfrazada moza como embelesada'),\n",
       " Row(_c0='-Pues que la soledad destas sierras no ha sido parte para encubrirme'),\n",
       " Row(_c0='Todo esto dijo sin parar la que tan hermosa mujer parecía'),\n",
       " Row(_c0='-En esta Andalucía hay un lugar de quien toma título un duque'),\n",
       " Row(_c0='Era el espejo en que se miraban'),\n",
       " Row(_c0='Es'),\n",
       " Row(_c0='No hubo bien nombrado a don Fernando la que el cuento contaba'),\n",
       " Row(_c0='-Y no me hubieron bien visto'),\n",
       " Row(_c0='Decíanme mis padres que en sola mi virtud y bondad dejaban y depositaban su honra y fama'),\n",
       " Row(_c0='Todos estos recatos míos'),\n",
       " Row(_c0='traidor que sus lágrimas acreditasen sus palabras'),\n",
       " Row(_c0='«-Si como estoy'),\n",
       " Row(_c0='«-Si no reparas más que en eso'),\n",
       " Row(_c0='Cuando Cardenio le oyó decir que se llamaba Dorotea'),\n",
       " Row(_c0='-¿Que Dorotea es tu nombre'),\n",
       " Row(_c0='Reparó Dorotea en las razones de Cardenio y en su extraño y desastrado traje'),\n",
       " Row(_c0='-No le perdiera yo'),\n",
       " Row(_c0='-Sea lo que fuere -respondió Dorotea-'),\n",
       " Row(_c0='a lo igual de lo que mi calidad pedía'),\n",
       " Row(_c0='Todas estas razones que aquí he dicho le dije'),\n",
       " Row(_c0='Yo'),\n",
       " Row(_c0='Todas estas demandas y respuestas revolví en un instante en la imaginación'),\n",
       " Row(_c0='El día que sucedió a la noche de mi desgracia se venia aún no tan apriesa como yo pienso que don Fernando deseaba; porque después de cumplido aquello que el apetito pide'),\n",
       " Row(_c0='Estos días y estas horas bien sé yo que para mí fueron aciagos y menguadas'),\n",
       " Row(_c0='sé también que mi doncella oyó entonces las palabras que en reprehensión de su atrevimiento antes no había oído; y sé que me fue forzoso tener cuenta con mis lagrimas y con la compostura de mí rostro'),\n",
       " Row(_c0='Oyó Cardenio el nombre de Luscinda'),\n",
       " Row(_c0='-Llegó esta triste nueva a mis oídos'),\n",
       " Row(_c0='Luscinda le había hecho'),\n",
       " Row(_c0='Estando'),\n",
       " Row(_c0='Capítulo 29: Que trata del gracioso artificio y orden que se tuvo en sacar a nuestro enamorado caballero de la asperísima penitencia en que se había puesto'),\n",
       " Row(_c0='-Esta es'),\n",
       " Row(_c0='Calló en diciendo esto'),\n",
       " Row(_c0='-En fin'),\n",
       " Row(_c0='Admirada quedó Dorotea cuando oyó el nombre de su padre'),\n",
       " Row(_c0='-Y ¿quién sois vos'),\n",
       " Row(_c0='-Soy -respondió Cardenio- aquel sin ventura que'),\n",
       " Row(_c0='guardado mejor suceso en nuestros desastres que nosotros pensamos. Porque'),\n",
       " Row(_c0='Con lo que Cardenio dijo'),\n",
       " Row(_c0='En esto'),\n",
       " Row(_c0='-Pues no es menester más -dijo el cura- sino que luego se ponga por obra; que'),\n",
       " Row(_c0='Sacó luego Dorotea de su almohada una saya entera de cierta telilla rica y una mantellina de otra vistosa tela verde'),\n",
       " Row(_c0='que en un instante se adornó'),\n",
       " Row(_c0='-Esta hermosa señora -respondió el cura-'),\n",
       " Row(_c0='-Dichosa buscada y dichoso hallazgo –dijo a esta sazón Sancho Panza-'),\n",
       " Row(_c0='-Llámase -respondió el cura- la princesa Micomicona'),\n",
       " Row(_c0='-No hay duda en eso -respondió Sancho-; que yo he visto a muchos tomar el apellido y alcurnia del lugar donde nacieron'),\n",
       " Row(_c0='-Así debe de ser -dijo el cura-; y en lo del casarse vuestro amo'),\n",
       " Row(_c0='Con lo que quedó tan contento Sancho cuanto el cura admirado de su simplicidad'),\n",
       " Row(_c0='Ya'),\n",
       " Row(_c0='que había de hacer Dorotea; a lo que ella dijo que descuidasen: que todo se haría sin faltar punto'),\n",
       " Row(_c0='Tres cuartos de legua habrían andado'),\n",
       " Row(_c0='-De aquí me levantaré'),\n",
       " Row(_c0='-No os responderé palabra'),\n",
       " Row(_c0='-No me levantaré'),\n",
       " Row(_c0='-Yo vos le otorgo y concedo –respondió don Quijote-'),\n",
       " Row(_c0='-No será en daño ni en mengua de lo que decís'),\n",
       " Row(_c0='Y estando en esto'),\n",
       " Row(_c0='-Bien puede vuestra merced'),\n",
       " Row(_c0='-Sea quien fuere -respondió don Quijote-; que yo haré lo que soy obligado y lo que me dicta mi conciencia'),\n",
       " Row(_c0='Y volviéndose a la doncella'),\n",
       " Row(_c0='-La vuestra gran fermosura se levante'),\n",
       " Row(_c0='-Pues el que pido es -dijo la doncella- que la vuestra magnánima persona se venga luego conmigo donde yo le llevare'),\n",
       " Row(_c0='-Digo que así lo otorgo -respondió don Quijote-; y así'),\n",
       " Row(_c0='La menesterosa doncella pugnó con mucha porfía por besarle las manos; mas don Quijote'),\n",
       " Row(_c0='-Vamos de aquí'),\n",
       " Row(_c0='Estábase el barbero aún de rodillas'),\n",
       " Row(_c0='Todo esto miraban desde unas breñas Cardenio y el cura'),\n",
       " Row(_c0='-Para bien sea hallado el espejo de la caballería'),\n",
       " Row(_c0='Y diciendo esto'),\n",
       " Row(_c0='-Déjeme vuestra merced'),\n",
       " Row(_c0='-Eso no consentiré yo en ningún modo -dijo el cura-: estése la vuestra grandeza a caballo'),\n",
       " Row(_c0='-Aun no caía yo en tanto'),\n",
       " Row(_c0='-Si sufre'),\n",
       " Row(_c0='-Así es -respondió el barbero.'),\n",
       " Row(_c0='Y apeándose en un punto convidó al cura con la silla'),\n",
       " Row(_c0='-¡Vive Dios'),\n",
       " Row(_c0='El cura'),\n",
       " Row(_c0='-Así es -dijo el cura'),\n",
       " Row(_c0='Concertáronse que por entonces subiese el cura'),\n",
       " Row(_c0='-Vuestra grandeza'),\n",
       " Row(_c0='Y antes que ella respondiese'),\n",
       " Row(_c0='-¿Hacia qué reino quiere guiar la vuestra señoría? ¿Es'),\n",
       " Row(_c0='Ella'),\n",
       " Row(_c0='-Si así es -dijo el cura-'),\n",
       " Row(_c0='-Vuestra merced está engañado'),\n",
       " Row(_c0='-No más; cesen mis alabanzas -dijo a esta sazón don Quijote-'),\n",
       " Row(_c0='-A eso yo responderé con brevedad -respondió el cura-; porque sabrá vuestra merced'),\n",
       " Row(_c0='Habíales contado Sancho al cura y al barbero la aventura de los galeotes'),\n",
       " Row(_c0='-Estos'),\n",
       " Row(_c0='Capítulo 30: Que trata de la discreción de la hermosa Dorotea'),\n",
       " Row(_c0='No hubo bien acabado el cura'),\n",
       " Row(_c0='-Pues mía fe'),\n",
       " Row(_c0='-Majadero -dijo a esta sazón don Quijote-'),\n",
       " Row(_c0='Y esto dijo afirmándose en los estribos y calándose el morrión; porque la bacía de barbero'),\n",
       " Row(_c0='Dorotea'),\n",
       " Row(_c0='-Señor caballero'),\n",
       " Row(_c0='-Eso juro yo bien -dijo el cura-'),\n",
       " Row(_c0='-Yo callaré'),\n",
       " Row(_c0='-Eso haré yo de gana -respondió Dorotea-'),\n",
       " Row(_c0='-No enfadará'),\n",
       " Row(_c0='A lo que respondió Dorotea:'),\n",
       " Row(_c0='-Pues así es'),\n",
       " Row(_c0='No hubo ella dicho esto'),\n",
       " Row(_c0='-Primeramente'),\n",
       " Row(_c0='Y detúvose aquí un poco porque se le olvidó el nombre que el cura le había puesto; pero él acudió al remedio'),\n",
       " Row(_c0='-No es maravilla'),\n",
       " Row(_c0='-Así es la verdad -respondió la doncella-'),\n",
       " Row(_c0='-Don Quijote diría'),\n",
       " Row(_c0='-Así es la verdad -dijo Dorotea-. Dijo más: que había de ser alto de cuerpo'),\n",
       " Row(_c0='En oyendo esto don Quijote'),\n",
       " Row(_c0='-Ten aquí'),\n",
       " Row(_c0='-Pues ¿para qué quiere vuestra merced desnudarse? -dijo Dorotea.'),\n",
       " Row(_c0='-Para ver si tengo ese lunar que vuestro padre dijo -respondió don Quijote.'),\n",
       " Row(_c0='-No hay para qué desnudarse -dijo Sancho-; que yo sé que tiene vuestra merced un lunar desas señas en la mitad del espinazo'),\n",
       " Row(_c0='-Eso basta -dijo Dorotea-; porque con los amigos no se ha de mirar en pocas cosas y que esté en el hombro'),\n",
       " Row(_c0='-Pues ¿cómo se desembarcó vuestra merced en Osuna'),\n",
       " Row(_c0='Mas antes que Dorotea respondiese'),\n",
       " Row(_c0='-Debe de querer decir la señora princesa que después que desembarcó en Málaga'),\n",
       " Row(_c0='-Eso quise decir -dijo Dorotea.'),\n",
       " Row(_c0='-Y esto lleva camino -dijo el cura-; y prosiga vuestra Majestad adelante.'),\n",
       " Row(_c0='-No hay que proseguir -respondió Dorotea-'),\n",
       " Row(_c0='-¿Qué te parece'),\n",
       " Row(_c0='-¡Eso juro yo -dijo Sancho- para el puto que no se casare en abriendo el gaznatico al señor Pandahilado! Pues ¡monta que es mala la reina! ¡Así se me vuelvan las pulgas de la cama!'),\n",
       " Row(_c0='Y diciendo esto'),\n",
       " Row(_c0='-Esta'),\n",
       " Row(_c0='-Esa no me quitarán a mi'),\n",
       " Row(_c0='Esto dijo entre dientes'),\n",
       " Row(_c0='-Y después de habérsela tajado y puestos en pacífica posesión de vuestro estado'),\n",
       " Row(_c0='Parecióle tan mal a Sancho lo que últimamente su amo dijo acerca de no querer casarse'),\n",
       " Row(_c0='-Voto a mí'),\n",
       " Row(_c0='Don Quijote'),\n",
       " Row(_c0='-¿Pensáis -le dijo a cabo de rato-'),\n",
       " Row(_c0='No estaba tan maltrecho Sancho'),\n",
       " Row(_c0='-Dígame'),\n",
       " Row(_c0='-¿Cómo que no la has visto'),\n",
       " Row(_c0='-Digo que no la he visto tan despacio –dijo Sancho-'),\n",
       " Row(_c0='-Ahora te disculpo -dijo don Quijote-'),\n",
       " Row(_c0='-Ya yo lo veo -respondió Sancho-; y así'),\n",
       " Row(_c0='-Con todo eso -dijo don Quijote-'),\n",
       " Row(_c0='-Ahora bien -respondió Sancho-'),\n",
       " Row(_c0='-No haya más -dijo Dorotea-: corred'),\n",
       " Row(_c0='Fue Sancho cabizbajo y pidió la mano a su señor'),\n",
       " Row(_c0='de mucha importancia. Hízolo así Sancho y apartáronse los dos algo adelante'),\n",
       " Row(_c0='-Después que veniste'),\n",
       " Row(_c0='-Pregunte vuestra merced lo que quisiere -respondió Sancho-; que a todo daré tan buena salida como tuve la entrada. Pero suplico a vuestra merced'),\n",
       " Row(_c0='-¿Por qué lo dices'),\n",
       " Row(_c0='-Dígolo -respondió- porque estos palos de agora más fueron por la pendencia que entre los dos trabó el diablo la otra noche que por lo que dije contra mi señora Dulcinea'),\n",
       " Row(_c0='-No tornes a esas pláticas'),\n",
       " Row(_c0='Mientras esto pasaba'),\n",
       " Row(_c0='-¡Ah'),\n",
       " Row(_c0='No fueron menester tantas palabras ni baldones'),\n",
       " Row(_c0='-¿Cómo has estado'),\n",
       " Row(_c0='Y con esto le besaba y acariciaba'),\n",
       " Row(_c0='En tanto que los dos iban en estas pláticas'),\n",
       " Row(_c0='-Yo lo entendí así -dijo el cura-'),\n",
       " Row(_c0='-Sí es -dijo Cardenio-; y tan rara y nunca vista'),\n",
       " Row(_c0='-Pues otra cosa hay en ello -dijo el cura-: que fuera de las simplicidades que este buen hidalgo dice tocantes a su locura'),\n",
       " Row(_c0='En tanto que ellos iban en esta conversación'),\n",
       " Row(_c0='-Echemos'),\n",
       " Row(_c0='-Señor -respondió Sancho-'),\n",
       " Row(_c0='-Así es como tú dices -dijo don Quijote-'),\n",
       " Row(_c0='-Así fuera -respondió Sancho-'),\n",
       " Row(_c0='-Y ¿tiénesla todavía en la memoria'),\n",
       " Row(_c0='-No'),\n",
       " Row(_c0='Capítulo 30: Que trata de la discreción de la hermosa Dorotea'),\n",
       " Row(_c0='No hubo bien acabado el cura'),\n",
       " Row(_c0='-Pues mía fe'),\n",
       " Row(_c0='-Majadero -dijo a esta sazón don Quijote-'),\n",
       " Row(_c0='Y esto dijo afirmándose en los estribos y calándose el morrión; porque la bacía de barbero'),\n",
       " Row(_c0='Dorotea'),\n",
       " Row(_c0='-Señor caballero'),\n",
       " Row(_c0='-Eso juro yo bien -dijo el cura-'),\n",
       " ...]"
      ]
     },
     "execution_count": 13,
     "metadata": {},
     "output_type": "execute_result"
    }
   ],
   "source": [
    "quijote.collect()"
   ]
  },
  {
   "cell_type": "markdown",
   "id": "b7d76dd1",
   "metadata": {},
   "source": [
    "La función take(n) devuelve las n primeras lineas del documento"
   ]
  },
  {
   "cell_type": "code",
   "execution_count": 15,
   "id": "2a2c06f2",
   "metadata": {},
   "outputs": [
    {
     "data": {
      "text/plain": [
       "[Row(_c0='DON QUIJOTE DE LA MANCHA'),\n",
       " Row(_c0='Miguel de Cervantes Saavedra'),\n",
       " Row(_c0='PRIMERA PARTE'),\n",
       " Row(_c0='CAPÍTULO 1: Que trata de la condición y ejercicio del famoso hidalgo D. Quijote de la Mancha'),\n",
       " Row(_c0='En un lugar de la Mancha')]"
      ]
     },
     "execution_count": 15,
     "metadata": {},
     "output_type": "execute_result"
    }
   ],
   "source": [
    "quijote.take(5)"
   ]
  },
  {
   "cell_type": "markdown",
   "id": "e339755b",
   "metadata": {},
   "source": [
    "La función head funciona exactamente igual que take() y el formato que devuelve en la salida es el mismo que en el de dicha función"
   ]
  },
  {
   "cell_type": "code",
   "execution_count": 16,
   "id": "ccaf570f",
   "metadata": {},
   "outputs": [
    {
     "data": {
      "text/plain": [
       "[Row(_c0='DON QUIJOTE DE LA MANCHA'),\n",
       " Row(_c0='Miguel de Cervantes Saavedra'),\n",
       " Row(_c0='PRIMERA PARTE'),\n",
       " Row(_c0='CAPÍTULO 1: Que trata de la condición y ejercicio del famoso hidalgo D. Quijote de la Mancha'),\n",
       " Row(_c0='En un lugar de la Mancha')]"
      ]
     },
     "execution_count": 16,
     "metadata": {},
     "output_type": "execute_result"
    }
   ],
   "source": [
    "quijote.head(5)"
   ]
  },
  {
   "cell_type": "markdown",
   "id": "99e68d08",
   "metadata": {},
   "source": [
    "La función tail(n) devuelve las n últimas lineas del documento."
   ]
  },
  {
   "cell_type": "code",
   "execution_count": 18,
   "id": "098ea920",
   "metadata": {},
   "outputs": [
    {
     "data": {
      "text/plain": [
       "[Row(_c0='Reposa aquí Dulcinea;'),\n",
       " Row(_c0='y'),\n",
       " Row(_c0='y tuvo asomos de dama; del gran Quijote fue llama'),\n",
       " Row(_c0='Estos fueron los versos que se pudieron leer; los demás'),\n",
       " Row(_c0='Forse altri canterà con miglior plettro. FINIS')]"
      ]
     },
     "execution_count": 18,
     "metadata": {},
     "output_type": "execute_result"
    }
   ],
   "source": [
    "quijote.tail(5)"
   ]
  },
  {
   "cell_type": "markdown",
   "id": "1f206eb4",
   "metadata": {},
   "source": [
    "La función first devuelve la primera linea del documento"
   ]
  },
  {
   "cell_type": "code",
   "execution_count": 23,
   "id": "4963cd0a",
   "metadata": {},
   "outputs": [
    {
     "data": {
      "text/plain": [
       "Row(_c0='DON QUIJOTE DE LA MANCHA')"
      ]
     },
     "execution_count": 23,
     "metadata": {},
     "output_type": "execute_result"
    }
   ],
   "source": [
    "quijote.first()"
   ]
  },
  {
   "cell_type": "markdown",
   "id": "4384e34e",
   "metadata": {},
   "source": [
    "La diferencia entre las funciones head, take y first es que en las dos primeras puedes establecer el número de lineas que quieres que devuelva y la salida de ambas funciones es en el mismo formato. Por el contrario, first solo devuelve la primera linea del documento."
   ]
  }
 ],
 "metadata": {
  "kernelspec": {
   "display_name": "spylon-kernel",
   "language": "scala",
   "name": "spylon-kernel"
  },
  "language_info": {
   "codemirror_mode": "text/x-scala",
   "file_extension": ".scala",
   "help_links": [
    {
     "text": "MetaKernel Magics",
     "url": "https://metakernel.readthedocs.io/en/latest/source/README.html"
    }
   ],
   "mimetype": "text/x-scala",
   "name": "scala",
   "pygments_lexer": "scala",
   "version": "0.4.1"
  }
 },
 "nbformat": 4,
 "nbformat_minor": 5
}
