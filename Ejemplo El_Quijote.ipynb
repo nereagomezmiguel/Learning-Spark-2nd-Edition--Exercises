{
 "cells": [
  {
   "cell_type": "markdown",
   "id": "3a713ad8",
   "metadata": {},
   "source": [
    "# Ejemplo El Quijote"
   ]
  },
  {
   "cell_type": "markdown",
   "id": "f28ca0c1",
   "metadata": {},
   "source": [
    "Para llevar a cabo estos ejercicios he descargado el documento \"el_quijote.txt\" del repositorio de GitHub:  \n",
    "https://gist.github.com/jsdario/6d6c69398cb0c73111e49f1218960f79\n"
   ]
  },
  {
   "cell_type": "markdown",
   "id": "e2ddfb5c",
   "metadata": {},
   "source": [
    "### Scala"
   ]
  },
  {
   "cell_type": "markdown",
   "id": "4fdc2d55",
   "metadata": {},
   "source": [
    "    Para ejecutar esta parte:\n",
    "     Kernel -> Change kernel -> spylon-kernel"
   ]
  },
  {
   "cell_type": "markdown",
   "id": "3ce84444",
   "metadata": {},
   "source": [
    "Importamos las librerias necesarias:"
   ]
  },
  {
   "cell_type": "code",
   "execution_count": 1,
   "id": "03849c80",
   "metadata": {},
   "outputs": [
    {
     "data": {
      "text/plain": [
       "Intitializing Scala interpreter ..."
      ]
     },
     "metadata": {},
     "output_type": "display_data"
    },
    {
     "data": {
      "text/plain": [
       "Spark Web UI available at http://EM2021002836.bosonit.local:4041\n",
       "SparkContext available as 'sc' (version = 3.1.1, master = local[*], app id = local-1622124070795)\n",
       "SparkSession available as 'spark'\n"
      ]
     },
     "metadata": {},
     "output_type": "display_data"
    },
    {
     "data": {
      "text/plain": [
       "import org.apache.spark.sql.SparkSession\r\n",
       "import org.apache.spark.sql.functions._\r\n"
      ]
     },
     "execution_count": 1,
     "metadata": {},
     "output_type": "execute_result"
    }
   ],
   "source": [
    "import org.apache.spark.sql.SparkSession\n",
    "import org.apache.spark.sql.functions._"
   ]
  },
  {
   "cell_type": "markdown",
   "id": "afeb2c20",
   "metadata": {},
   "source": [
    "Creamos SparkSession"
   ]
  },
  {
   "cell_type": "code",
   "execution_count": 2,
   "id": "c8e7ce77",
   "metadata": {},
   "outputs": [
    {
     "data": {
      "text/plain": [
       "spark: org.apache.spark.sql.SparkSession = org.apache.spark.sql.SparkSession@55eab8c9\r\n"
      ]
     },
     "execution_count": 2,
     "metadata": {},
     "output_type": "execute_result"
    }
   ],
   "source": [
    "val spark = SparkSession\n",
    "        .builder\n",
    "        .appName(\"Quijote\")\n",
    "        .getOrCreate()"
   ]
  },
  {
   "cell_type": "code",
   "execution_count": 3,
   "id": "cfdb31df",
   "metadata": {},
   "outputs": [
    {
     "data": {
      "text/plain": [
       "quijoteFile: String = C:/Users/nerea.gomez/Documents/Documentacion/Learning Spark/Datasets/el_quijote.txt\r\n"
      ]
     },
     "execution_count": 3,
     "metadata": {},
     "output_type": "execute_result"
    }
   ],
   "source": [
    "//Indicamos la ruta de nuestro conjunto de datos\n",
    "val quijoteFile = \"C:/Users/nerea.gomez/Documents/Documentacion/Learning Spark/Datasets/el_quijote.txt\""
   ]
  },
  {
   "cell_type": "code",
   "execution_count": 4,
   "id": "16ec145a",
   "metadata": {},
   "outputs": [
    {
     "data": {
      "text/plain": [
       "QuijDF: org.apache.spark.rdd.RDD[String] = C:/Users/nerea.gomez/Documents/Documentacion/Learning Spark/Datasets/el_quijote.txt MapPartitionsRDD[1] at textFile at <console>:32\r\n"
      ]
     },
     "execution_count": 4,
     "metadata": {},
     "output_type": "execute_result"
    }
   ],
   "source": [
    "//Leemos el dataset\n",
    "val QuijDF = sc.textFile(quijoteFile)"
   ]
  },
  {
   "cell_type": "markdown",
   "id": "1b4871f9",
   "metadata": {},
   "source": [
    "Contamos el número de lineas que tiene nuestro documento:"
   ]
  },
  {
   "cell_type": "code",
   "execution_count": 5,
   "id": "ae77afdb",
   "metadata": {},
   "outputs": [
    {
     "data": {
      "text/plain": [
       "res0: Long = 2186\r\n"
      ]
     },
     "execution_count": 5,
     "metadata": {},
     "output_type": "execute_result"
    }
   ],
   "source": [
    "QuijDF.count()"
   ]
  },
  {
   "cell_type": "markdown",
   "id": "7cec0c99",
   "metadata": {},
   "source": [
    "Mostramos el contenido del documento con la funcion collect(). Esta función nos va a devolver un array que contenga separado por comas las lineas del documento:"
   ]
  },
  {
   "cell_type": "code",
   "execution_count": 8,
   "id": "4f33777e",
   "metadata": {},
   "outputs": [],
   "source": [
    "//QuijDF.collect()"
   ]
  },
  {
   "cell_type": "markdown",
   "id": "58dc8ef5",
   "metadata": {},
   "source": [
    "Con la función foreach() vamos a obtener el documento como esta guardado en el txt."
   ]
  },
  {
   "cell_type": "code",
   "execution_count": 9,
   "id": "d26f4ce6",
   "metadata": {},
   "outputs": [],
   "source": [
    "//QuijDF.collect.foreach(println)"
   ]
  },
  {
   "cell_type": "markdown",
   "id": "3f8ea783",
   "metadata": {},
   "source": [
    "Take(n) va a devolver las n primeras lineas que contiene el documento en forma de array:"
   ]
  },
  {
   "cell_type": "code",
   "execution_count": 7,
   "id": "b5de78b1",
   "metadata": {},
   "outputs": [
    {
     "data": {
      "text/plain": [
       "res2: Array[String] = Array(DON QUIJOTE DE LA MANCHA, Miguel de Cervantes Saavedra, \"\", PRIMERA PARTE, CAPI?TULO 1: Que trata de la condicio?n y ejercicio del famoso hidalgo D. Quijote de la Mancha)\r\n"
      ]
     },
     "execution_count": 7,
     "metadata": {},
     "output_type": "execute_result"
    }
   ],
   "source": [
    "QuijDF.take(5)"
   ]
  },
  {
   "cell_type": "markdown",
   "id": "65f3a467",
   "metadata": {},
   "source": [
    "Si combinamos la función take con la función foreach obtenemos un resultado más visual, nos devuelve las lineas tal y como están escritas en el documento."
   ]
  },
  {
   "cell_type": "code",
   "execution_count": 8,
   "id": "abe606ce",
   "metadata": {},
   "outputs": [
    {
     "name": "stdout",
     "output_type": "stream",
     "text": [
      "DON QUIJOTE DE LA MANCHA\n",
      "Miguel de Cervantes Saavedra\n",
      "\n",
      "PRIMERA PARTE\n",
      "CAPI?TULO 1: Que trata de la condicio?n y ejercicio del famoso hidalgo D. Quijote de la Mancha\n"
     ]
    }
   ],
   "source": [
    "QuijDF.take(5).foreach(println)"
   ]
  },
  {
   "cell_type": "markdown",
   "id": "a87c9e6c",
   "metadata": {},
   "source": [
    "La función first devuelve la primera linea del documento"
   ]
  },
  {
   "cell_type": "code",
   "execution_count": 16,
   "id": "8c75377a",
   "metadata": {},
   "outputs": [
    {
     "data": {
      "text/plain": [
       "res11: String = DON QUIJOTE DE LA MANCHA\r\n"
      ]
     },
     "execution_count": 16,
     "metadata": {},
     "output_type": "execute_result"
    }
   ],
   "source": [
    "QuijDF.first"
   ]
  },
  {
   "cell_type": "markdown",
   "id": "1636d4d0",
   "metadata": {},
   "source": [
    "La diferencia entre first y take() es que first te devuelve solo la primera linea del documento y con take te devuelve en forma de array el número de lineas que pidas en el paréntesis."
   ]
  },
  {
   "cell_type": "markdown",
   "id": "9f864799",
   "metadata": {},
   "source": [
    "### Python"
   ]
  },
  {
   "cell_type": "markdown",
   "id": "3493fd63",
   "metadata": {},
   "source": [
    "    Para ejecutar esta parte:\n",
    "     Kernel -> Change kernel -> Python 3"
   ]
  },
  {
   "cell_type": "markdown",
   "id": "c71d3d56",
   "metadata": {},
   "source": [
    "Importamos las librerias necesarias:"
   ]
  },
  {
   "cell_type": "code",
   "execution_count": 1,
   "id": "206e5ba2",
   "metadata": {},
   "outputs": [],
   "source": [
    "import sys\n",
    "from pyspark.sql import SparkSession\n",
    "from pyspark.sql.functions import count"
   ]
  },
  {
   "cell_type": "markdown",
   "id": "34777911",
   "metadata": {},
   "source": [
    "Creamos una SparkSession:"
   ]
  },
  {
   "cell_type": "code",
   "execution_count": 2,
   "id": "27c9dfe1",
   "metadata": {},
   "outputs": [],
   "source": [
    "spark = (SparkSession\n",
    "        .builder\n",
    "        .appName(\"PythonMnMCount\")\n",
    "        .getOrCreate())"
   ]
  },
  {
   "cell_type": "markdown",
   "id": "eb846699",
   "metadata": {},
   "source": [
    "Leemos el documento de texto"
   ]
  },
  {
   "cell_type": "code",
   "execution_count": 4,
   "id": "a9f2102d",
   "metadata": {},
   "outputs": [],
   "source": [
    "file = \"C:/Users/nerea.gomez/Documents/Documentacion/Learning Spark/Datasets/el_quijote.csv\""
   ]
  },
  {
   "cell_type": "code",
   "execution_count": 5,
   "id": "0cbcac43",
   "metadata": {},
   "outputs": [],
   "source": [
    "quijote = (spark.read.format(\"csv\")\n",
    " .option(\"inferSchema\", \"true\")\n",
    " .load(file))"
   ]
  },
  {
   "cell_type": "markdown",
   "id": "3720bacd",
   "metadata": {},
   "source": [
    "Con la función show observamos lo que tenemos en las primeras filas del csv. Con el parámetro n establecemos el número de lineas que queremos mostrar. El parámetro truncate=False muestra las lineas COMPLETAS."
   ]
  },
  {
   "cell_type": "code",
   "execution_count": 11,
   "id": "86b2ed4d",
   "metadata": {},
   "outputs": [
    {
     "name": "stdout",
     "output_type": "stream",
     "text": [
      "+--------------------------------------------------------------------------------------------------+\n",
      "|_c0                                                                                               |\n",
      "+--------------------------------------------------------------------------------------------------+\n",
      "|DON QUIJOTE DE LA MANCHA                                                                          |\n",
      "|Miguel de Cervantes Saavedra                                                                      |\n",
      "|PRIMERA PARTE                                                                                     |\n",
      "|CAPÍTULO 1: Que trata de la condición y ejercicio del famoso hidalgo D. Quijote de la Mancha    |\n",
      "|En un lugar de la Mancha                                                                          |\n",
      "|Tuvo muchas veces competencia con el cura de su lugar (que era hombre docto graduado en Sigüenza)|\n",
      "+--------------------------------------------------------------------------------------------------+\n",
      "only showing top 6 rows\n",
      "\n"
     ]
    }
   ],
   "source": [
    "quijote.show(n=6,truncate =False)"
   ]
  },
  {
   "cell_type": "markdown",
   "id": "53e6643f",
   "metadata": {},
   "source": [
    "A diferencia del anterior, cuando establecemos el parámetro truncate=True(es el que viene por defecto), la función solo nos muestra una parte de las lineas."
   ]
  },
  {
   "cell_type": "code",
   "execution_count": 10,
   "id": "d28d8c32",
   "metadata": {},
   "outputs": [
    {
     "name": "stdout",
     "output_type": "stream",
     "text": [
      "+--------------------+\n",
      "|                 _c0|\n",
      "+--------------------+\n",
      "|DON QUIJOTE DE LA...|\n",
      "|Miguel de Cervant...|\n",
      "|       PRIMERA PARTE|\n",
      "|CAPÍTULO 1: Que ...|\n",
      "|En un lugar de la...|\n",
      "|Tuvo muchas veces...|\n",
      "+--------------------+\n",
      "only showing top 6 rows\n",
      "\n"
     ]
    }
   ],
   "source": [
    "quijote.show(n=6, truncate =True)"
   ]
  },
  {
   "cell_type": "markdown",
   "id": "3aa35af4",
   "metadata": {},
   "source": [
    "La función count nos devuelve el número de lineas que tiene el documento."
   ]
  },
  {
   "cell_type": "code",
   "execution_count": 12,
   "id": "90b6f127",
   "metadata": {},
   "outputs": [
    {
     "data": {
      "text/plain": [
       "2185"
      ]
     },
     "execution_count": 12,
     "metadata": {},
     "output_type": "execute_result"
    }
   ],
   "source": [
    "quijote.count()"
   ]
  },
  {
   "cell_type": "markdown",
   "id": "1f406036",
   "metadata": {},
   "source": [
    "La función collect() en este caso nos devuelve todas las lineas del documento separadas por comas."
   ]
  },
  {
   "cell_type": "code",
   "execution_count": 1,
   "id": "fe806ea3",
   "metadata": {},
   "outputs": [],
   "source": [
    "##quijote.collect()"
   ]
  },
  {
   "cell_type": "markdown",
   "id": "b7d76dd1",
   "metadata": {},
   "source": [
    "La función take(n) devuelve las n primeras lineas del documento"
   ]
  },
  {
   "cell_type": "code",
   "execution_count": 15,
   "id": "2a2c06f2",
   "metadata": {},
   "outputs": [
    {
     "data": {
      "text/plain": [
       "[Row(_c0='DON QUIJOTE DE LA MANCHA'),\n",
       " Row(_c0='Miguel de Cervantes Saavedra'),\n",
       " Row(_c0='PRIMERA PARTE'),\n",
       " Row(_c0='CAPÍTULO 1: Que trata de la condición y ejercicio del famoso hidalgo D. Quijote de la Mancha'),\n",
       " Row(_c0='En un lugar de la Mancha')]"
      ]
     },
     "execution_count": 15,
     "metadata": {},
     "output_type": "execute_result"
    }
   ],
   "source": [
    "quijote.take(5)"
   ]
  },
  {
   "cell_type": "markdown",
   "id": "e339755b",
   "metadata": {},
   "source": [
    "La función head funciona exactamente igual que take() y el formato que devuelve en la salida es el mismo que en el de dicha función"
   ]
  },
  {
   "cell_type": "code",
   "execution_count": 16,
   "id": "ccaf570f",
   "metadata": {},
   "outputs": [
    {
     "data": {
      "text/plain": [
       "[Row(_c0='DON QUIJOTE DE LA MANCHA'),\n",
       " Row(_c0='Miguel de Cervantes Saavedra'),\n",
       " Row(_c0='PRIMERA PARTE'),\n",
       " Row(_c0='CAPÍTULO 1: Que trata de la condición y ejercicio del famoso hidalgo D. Quijote de la Mancha'),\n",
       " Row(_c0='En un lugar de la Mancha')]"
      ]
     },
     "execution_count": 16,
     "metadata": {},
     "output_type": "execute_result"
    }
   ],
   "source": [
    "quijote.head(5)"
   ]
  },
  {
   "cell_type": "markdown",
   "id": "99e68d08",
   "metadata": {},
   "source": [
    "La función tail(n) devuelve las n últimas lineas del documento."
   ]
  },
  {
   "cell_type": "code",
   "execution_count": 18,
   "id": "098ea920",
   "metadata": {},
   "outputs": [
    {
     "data": {
      "text/plain": [
       "[Row(_c0='Reposa aquí Dulcinea;'),\n",
       " Row(_c0='y'),\n",
       " Row(_c0='y tuvo asomos de dama; del gran Quijote fue llama'),\n",
       " Row(_c0='Estos fueron los versos que se pudieron leer; los demás'),\n",
       " Row(_c0='Forse altri canterà con miglior plettro. FINIS')]"
      ]
     },
     "execution_count": 18,
     "metadata": {},
     "output_type": "execute_result"
    }
   ],
   "source": [
    "quijote.tail(5)"
   ]
  },
  {
   "cell_type": "markdown",
   "id": "1f206eb4",
   "metadata": {},
   "source": [
    "La función first devuelve la primera linea del documento"
   ]
  },
  {
   "cell_type": "code",
   "execution_count": 23,
   "id": "4963cd0a",
   "metadata": {},
   "outputs": [
    {
     "data": {
      "text/plain": [
       "Row(_c0='DON QUIJOTE DE LA MANCHA')"
      ]
     },
     "execution_count": 23,
     "metadata": {},
     "output_type": "execute_result"
    }
   ],
   "source": [
    "quijote.first()"
   ]
  },
  {
   "cell_type": "markdown",
   "id": "4384e34e",
   "metadata": {},
   "source": [
    "La diferencia entre las funciones head, take y first es que en las dos primeras puedes establecer el número de lineas que quieres que devuelva y la salida de ambas funciones es en el mismo formato. Por el contrario, first solo devuelve la primera linea del documento."
   ]
  }
 ],
 "metadata": {
  "kernelspec": {
   "display_name": "Python 3",
   "language": "python",
   "name": "python3"
  },
  "language_info": {
   "codemirror_mode": {
    "name": "ipython",
    "version": 3
   },
   "file_extension": ".py",
   "mimetype": "text/x-python",
   "name": "python",
   "nbconvert_exporter": "python",
   "pygments_lexer": "ipython3",
   "version": "3.8.8"
  }
 },
 "nbformat": 4,
 "nbformat_minor": 5
}
